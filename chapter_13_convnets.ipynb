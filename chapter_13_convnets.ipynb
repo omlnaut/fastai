{
 "cells": [
  {
   "cell_type": "code",
   "execution_count": 1,
   "metadata": {},
   "outputs": [],
   "source": [
    "from fastai.vision.all import *"
   ]
  },
  {
   "cell_type": "markdown",
   "metadata": {},
   "source": [
    "# Convolutional kernels from scratch"
   ]
  },
  {
   "cell_type": "code",
   "execution_count": 2,
   "metadata": {},
   "outputs": [],
   "source": [
    "top_edge = tensor([[-1, -1, -1],\n",
    "                  [0, 0, 0],\n",
    "                  [1, 1, 1]])"
   ]
  },
  {
   "cell_type": "code",
   "execution_count": 3,
   "metadata": {},
   "outputs": [
    {
     "data": {
      "image/png": "[encoded data removed]",
      "text/plain": [
       "<Figure size 72x72 with 1 Axes>"
      ]
     },
     "metadata": {
      "needs_background": "light"
     },
     "output_type": "display_data"
    }
   ],
   "source": [
    "path = untar_data(URLs.MNIST_SAMPLE)\n",
    "im3 = Image.open(path/'train/3/12.png')\n",
    "show_image(im3, cmap='gray_r');"
   ]
  },
  {
   "cell_type": "markdown",
   "metadata": {},
   "source": [
    "Applying a kernel means elementwise multiplication followed by summation over all elements."
   ]
  },
  {
   "cell_type": "code",
   "execution_count": 4,
   "metadata": {},
   "outputs": [
    {
     "data": {
      "text/plain": [
       "tensor([[0, 0, 0],\n",
       "        [0, 0, 0],\n",
       "        [0, 0, 0]])"
      ]
     },
     "execution_count": 4,
     "metadata": {},
     "output_type": "execute_result"
    }
   ],
   "source": [
    "im3_tensor = tensor(im3)\n",
    "im3_tensor[0:3, 0:3] * top_edge"
   ]
  },
  {
   "cell_type": "code",
   "execution_count": 5,
   "metadata": {},
   "outputs": [
    {
     "data": {
      "text/plain": [
       "tensor(0)"
      ]
     },
     "execution_count": 5,
     "metadata": {},
     "output_type": "execute_result"
    }
   ],
   "source": [
    "(im3_tensor[0:3, 0:3] * top_edge).sum()"
   ]
  },
  {
   "cell_type": "code",
   "execution_count": 6,
   "metadata": {},
   "outputs": [
    {
     "data": {
      "text/html": [
       "<style  type=\"text/css\" >\n",
       "#T_a3ce2542_2feb_11eb_a996_0242ac110002row0_col0,#T_a3ce2542_2feb_11eb_a996_0242ac110002row0_col1,#T_a3ce2542_2feb_11eb_a996_0242ac110002row0_col2,#T_a3ce2542_2feb_11eb_a996_0242ac110002row0_col3,#T_a3ce2542_2feb_11eb_a996_0242ac110002row0_col4,#T_a3ce2542_2feb_11eb_a996_0242ac110002row0_col5,#T_a3ce2542_2feb_11eb_a996_0242ac110002row0_col6,#T_a3ce2542_2feb_11eb_a996_0242ac110002row0_col7,#T_a3ce2542_2feb_11eb_a996_0242ac110002row0_col8,#T_a3ce2542_2feb_11eb_a996_0242ac110002row0_col9,#T_a3ce2542_2feb_11eb_a996_0242ac110002row0_col10,#T_a3ce2542_2feb_11eb_a996_0242ac110002row0_col11,#T_a3ce2542_2feb_11eb_a996_0242ac110002row0_col12,#T_a3ce2542_2feb_11eb_a996_0242ac110002row0_col13,#T_a3ce2542_2feb_11eb_a996_0242ac110002row0_col14,#T_a3ce2542_2feb_11eb_a996_0242ac110002row0_col15,#T_a3ce2542_2feb_11eb_a996_0242ac110002row0_col16,#T_a3ce2542_2feb_11eb_a996_0242ac110002row0_col17,#T_a3ce2542_2feb_11eb_a996_0242ac110002row0_col18,#T_a3ce2542_2feb_11eb_a996_0242ac110002row0_col19,#T_a3ce2542_2feb_11eb_a996_0242ac110002row1_col0,#T_a3ce2542_2feb_11eb_a996_0242ac110002row1_col1,#T_a3ce2542_2feb_11eb_a996_0242ac110002row1_col2,#T_a3ce2542_2feb_11eb_a996_0242ac110002row1_col3,#T_a3ce2542_2feb_11eb_a996_0242ac110002row1_col4,#T_a3ce2542_2feb_11eb_a996_0242ac110002row1_col5,#T_a3ce2542_2feb_11eb_a996_0242ac110002row1_col6,#T_a3ce2542_2feb_11eb_a996_0242ac110002row1_col7,#T_a3ce2542_2feb_11eb_a996_0242ac110002row1_col8,#T_a3ce2542_2feb_11eb_a996_0242ac110002row1_col9,#T_a3ce2542_2feb_11eb_a996_0242ac110002row1_col10,#T_a3ce2542_2feb_11eb_a996_0242ac110002row1_col11,#T_a3ce2542_2feb_11eb_a996_0242ac110002row1_col12,#T_a3ce2542_2feb_11eb_a996_0242ac110002row1_col13,#T_a3ce2542_2feb_11eb_a996_0242ac110002row1_col14,#T_a3ce2542_2feb_11eb_a996_0242ac110002row1_col15,#T_a3ce2542_2feb_11eb_a996_0242ac110002row1_col16,#T_a3ce2542_2feb_11eb_a996_0242ac110002row1_col17,#T_a3ce2542_2feb_11eb_a996_0242ac110002row1_col18,#T_a3ce2542_2feb_11eb_a996_0242ac110002row1_col19,#T_a3ce2542_2feb_11eb_a996_0242ac110002row2_col0,#T_a3ce2542_2feb_11eb_a996_0242ac110002row2_col1,#T_a3ce2542_2feb_11eb_a996_0242ac110002row2_col2,#T_a3ce2542_2feb_11eb_a996_0242ac110002row2_col3,#T_a3ce2542_2feb_11eb_a996_0242ac110002row2_col4,#T_a3ce2542_2feb_11eb_a996_0242ac110002row2_col5,#T_a3ce2542_2feb_11eb_a996_0242ac110002row2_col6,#T_a3ce2542_2feb_11eb_a996_0242ac110002row2_col7,#T_a3ce2542_2feb_11eb_a996_0242ac110002row2_col8,#T_a3ce2542_2feb_11eb_a996_0242ac110002row2_col9,#T_a3ce2542_2feb_11eb_a996_0242ac110002row2_col10,#T_a3ce2542_2feb_11eb_a996_0242ac110002row2_col11,#T_a3ce2542_2feb_11eb_a996_0242ac110002row2_col12,#T_a3ce2542_2feb_11eb_a996_0242ac110002row2_col13,#T_a3ce2542_2feb_11eb_a996_0242ac110002row2_col14,#T_a3ce2542_2feb_11eb_a996_0242ac110002row2_col15,#T_a3ce2542_2feb_11eb_a996_0242ac110002row2_col16,#T_a3ce2542_2feb_11eb_a996_0242ac110002row2_col17,#T_a3ce2542_2feb_11eb_a996_0242ac110002row2_col18,#T_a3ce2542_2feb_11eb_a996_0242ac110002row2_col19,#T_a3ce2542_2feb_11eb_a996_0242ac110002row3_col0,#T_a3ce2542_2feb_11eb_a996_0242ac110002row3_col1,#T_a3ce2542_2feb_11eb_a996_0242ac110002row3_col2,#T_a3ce2542_2feb_11eb_a996_0242ac110002row3_col3,#T_a3ce2542_2feb_11eb_a996_0242ac110002row3_col4,#T_a3ce2542_2feb_11eb_a996_0242ac110002row3_col5,#T_a3ce2542_2feb_11eb_a996_0242ac110002row3_col6,#T_a3ce2542_2feb_11eb_a996_0242ac110002row3_col7,#T_a3ce2542_2feb_11eb_a996_0242ac110002row3_col8,#T_a3ce2542_2feb_11eb_a996_0242ac110002row3_col9,#T_a3ce2542_2feb_11eb_a996_0242ac110002row3_col10,#T_a3ce2542_2feb_11eb_a996_0242ac110002row3_col11,#T_a3ce2542_2feb_11eb_a996_0242ac110002row3_col12,#T_a3ce2542_2feb_11eb_a996_0242ac110002row3_col13,#T_a3ce2542_2feb_11eb_a996_0242ac110002row3_col14,#T_a3ce2542_2feb_11eb_a996_0242ac110002row3_col15,#T_a3ce2542_2feb_11eb_a996_0242ac110002row3_col16,#T_a3ce2542_2feb_11eb_a996_0242ac110002row3_col17,#T_a3ce2542_2feb_11eb_a996_0242ac110002row3_col18,#T_a3ce2542_2feb_11eb_a996_0242ac110002row3_col19,#T_a3ce2542_2feb_11eb_a996_0242ac110002row4_col0,#T_a3ce2542_2feb_11eb_a996_0242ac110002row4_col1,#T_a3ce2542_2feb_11eb_a996_0242ac110002row4_col2,#T_a3ce2542_2feb_11eb_a996_0242ac110002row4_col3,#T_a3ce2542_2feb_11eb_a996_0242ac110002row4_col4,#T_a3ce2542_2feb_11eb_a996_0242ac110002row4_col5,#T_a3ce2542_2feb_11eb_a996_0242ac110002row4_col6,#T_a3ce2542_2feb_11eb_a996_0242ac110002row4_col7,#T_a3ce2542_2feb_11eb_a996_0242ac110002row4_col8,#T_a3ce2542_2feb_11eb_a996_0242ac110002row4_col9,#T_a3ce2542_2feb_11eb_a996_0242ac110002row4_col10,#T_a3ce2542_2feb_11eb_a996_0242ac110002row4_col11,#T_a3ce2542_2feb_11eb_a996_0242ac110002row4_col12,#T_a3ce2542_2feb_11eb_a996_0242ac110002row4_col13,#T_a3ce2542_2feb_11eb_a996_0242ac110002row4_col14,#T_a3ce2542_2feb_11eb_a996_0242ac110002row4_col15,#T_a3ce2542_2feb_11eb_a996_0242ac110002row4_col16,#T_a3ce2542_2feb_11eb_a996_0242ac110002row4_col17,#T_a3ce2542_2feb_11eb_a996_0242ac110002row4_col18,#T_a3ce2542_2feb_11eb_a996_0242ac110002row4_col19,#T_a3ce2542_2feb_11eb_a996_0242ac110002row5_col0,#T_a3ce2542_2feb_11eb_a996_0242ac110002row5_col1,#T_a3ce2542_2feb_11eb_a996_0242ac110002row5_col2,#T_a3ce2542_2feb_11eb_a996_0242ac110002row5_col16,#T_a3ce2542_2feb_11eb_a996_0242ac110002row5_col17,#T_a3ce2542_2feb_11eb_a996_0242ac110002row5_col18,#T_a3ce2542_2feb_11eb_a996_0242ac110002row5_col19,#T_a3ce2542_2feb_11eb_a996_0242ac110002row6_col0,#T_a3ce2542_2feb_11eb_a996_0242ac110002row6_col1,#T_a3ce2542_2feb_11eb_a996_0242ac110002row6_col2,#T_a3ce2542_2feb_11eb_a996_0242ac110002row6_col19,#T_a3ce2542_2feb_11eb_a996_0242ac110002row7_col0,#T_a3ce2542_2feb_11eb_a996_0242ac110002row7_col1,#T_a3ce2542_2feb_11eb_a996_0242ac110002row7_col2,#T_a3ce2542_2feb_11eb_a996_0242ac110002row7_col19,#T_a3ce2542_2feb_11eb_a996_0242ac110002row8_col0,#T_a3ce2542_2feb_11eb_a996_0242ac110002row8_col1,#T_a3ce2542_2feb_11eb_a996_0242ac110002row8_col2,#T_a3ce2542_2feb_11eb_a996_0242ac110002row8_col8,#T_a3ce2542_2feb_11eb_a996_0242ac110002row8_col9,#T_a3ce2542_2feb_11eb_a996_0242ac110002row8_col10,#T_a3ce2542_2feb_11eb_a996_0242ac110002row8_col11,#T_a3ce2542_2feb_11eb_a996_0242ac110002row8_col12,#T_a3ce2542_2feb_11eb_a996_0242ac110002row8_col13,#T_a3ce2542_2feb_11eb_a996_0242ac110002row8_col19,#T_a3ce2542_2feb_11eb_a996_0242ac110002row9_col0,#T_a3ce2542_2feb_11eb_a996_0242ac110002row9_col1,#T_a3ce2542_2feb_11eb_a996_0242ac110002row9_col2,#T_a3ce2542_2feb_11eb_a996_0242ac110002row9_col3,#T_a3ce2542_2feb_11eb_a996_0242ac110002row9_col4,#T_a3ce2542_2feb_11eb_a996_0242ac110002row9_col5,#T_a3ce2542_2feb_11eb_a996_0242ac110002row9_col6,#T_a3ce2542_2feb_11eb_a996_0242ac110002row9_col7,#T_a3ce2542_2feb_11eb_a996_0242ac110002row9_col8,#T_a3ce2542_2feb_11eb_a996_0242ac110002row9_col9,#T_a3ce2542_2feb_11eb_a996_0242ac110002row9_col10,#T_a3ce2542_2feb_11eb_a996_0242ac110002row9_col11,#T_a3ce2542_2feb_11eb_a996_0242ac110002row9_col12,#T_a3ce2542_2feb_11eb_a996_0242ac110002row9_col13,#T_a3ce2542_2feb_11eb_a996_0242ac110002row9_col19{\n",
       "            font-size:  6pt;\n",
       "            background-color:  #ffffff;\n",
       "            color:  #000000;\n",
       "        }#T_a3ce2542_2feb_11eb_a996_0242ac110002row5_col3,#T_a3ce2542_2feb_11eb_a996_0242ac110002row8_col14{\n",
       "            font-size:  6pt;\n",
       "            background-color:  #f9f9f9;\n",
       "            color:  #000000;\n",
       "        }#T_a3ce2542_2feb_11eb_a996_0242ac110002row5_col4{\n",
       "            font-size:  6pt;\n",
       "            background-color:  #b9b9b9;\n",
       "            color:  #000000;\n",
       "        }#T_a3ce2542_2feb_11eb_a996_0242ac110002row5_col5{\n",
       "            font-size:  6pt;\n",
       "            background-color:  #c1c1c1;\n",
       "            color:  #000000;\n",
       "        }#T_a3ce2542_2feb_11eb_a996_0242ac110002row5_col6{\n",
       "            font-size:  6pt;\n",
       "            background-color:  #858585;\n",
       "            color:  #000000;\n",
       "        }#T_a3ce2542_2feb_11eb_a996_0242ac110002row5_col7,#T_a3ce2542_2feb_11eb_a996_0242ac110002row5_col10,#T_a3ce2542_2feb_11eb_a996_0242ac110002row5_col11,#T_a3ce2542_2feb_11eb_a996_0242ac110002row5_col12,#T_a3ce2542_2feb_11eb_a996_0242ac110002row5_col13{\n",
       "            font-size:  6pt;\n",
       "            background-color:  #777777;\n",
       "            color:  #000000;\n",
       "        }#T_a3ce2542_2feb_11eb_a996_0242ac110002row5_col8{\n",
       "            font-size:  6pt;\n",
       "            background-color:  #090909;\n",
       "            color:  #f1f1f1;\n",
       "        }#T_a3ce2542_2feb_11eb_a996_0242ac110002row5_col9{\n",
       "            font-size:  6pt;\n",
       "            background-color:  #5b5b5b;\n",
       "            color:  #f1f1f1;\n",
       "        }#T_a3ce2542_2feb_11eb_a996_0242ac110002row5_col14{\n",
       "            font-size:  6pt;\n",
       "            background-color:  #919191;\n",
       "            color:  #000000;\n",
       "        }#T_a3ce2542_2feb_11eb_a996_0242ac110002row5_col15{\n",
       "            font-size:  6pt;\n",
       "            background-color:  #e1e1e1;\n",
       "            color:  #000000;\n",
       "        }#T_a3ce2542_2feb_11eb_a996_0242ac110002row6_col3{\n",
       "            font-size:  6pt;\n",
       "            background-color:  #727272;\n",
       "            color:  #000000;\n",
       "        }#T_a3ce2542_2feb_11eb_a996_0242ac110002row6_col4,#T_a3ce2542_2feb_11eb_a996_0242ac110002row6_col5,#T_a3ce2542_2feb_11eb_a996_0242ac110002row6_col6,#T_a3ce2542_2feb_11eb_a996_0242ac110002row6_col7,#T_a3ce2542_2feb_11eb_a996_0242ac110002row6_col8,#T_a3ce2542_2feb_11eb_a996_0242ac110002row6_col9,#T_a3ce2542_2feb_11eb_a996_0242ac110002row6_col10,#T_a3ce2542_2feb_11eb_a996_0242ac110002row6_col11,#T_a3ce2542_2feb_11eb_a996_0242ac110002row6_col12,#T_a3ce2542_2feb_11eb_a996_0242ac110002row6_col13,#T_a3ce2542_2feb_11eb_a996_0242ac110002row6_col14,#T_a3ce2542_2feb_11eb_a996_0242ac110002row7_col3,#T_a3ce2542_2feb_11eb_a996_0242ac110002row7_col4,#T_a3ce2542_2feb_11eb_a996_0242ac110002row7_col5,#T_a3ce2542_2feb_11eb_a996_0242ac110002row7_col6,#T_a3ce2542_2feb_11eb_a996_0242ac110002row7_col15,#T_a3ce2542_2feb_11eb_a996_0242ac110002row7_col16,#T_a3ce2542_2feb_11eb_a996_0242ac110002row7_col17,#T_a3ce2542_2feb_11eb_a996_0242ac110002row8_col16,#T_a3ce2542_2feb_11eb_a996_0242ac110002row8_col17,#T_a3ce2542_2feb_11eb_a996_0242ac110002row8_col18,#T_a3ce2542_2feb_11eb_a996_0242ac110002row9_col15,#T_a3ce2542_2feb_11eb_a996_0242ac110002row9_col16{\n",
       "            font-size:  6pt;\n",
       "            background-color:  #000000;\n",
       "            color:  #f1f1f1;\n",
       "        }#T_a3ce2542_2feb_11eb_a996_0242ac110002row6_col15{\n",
       "            font-size:  6pt;\n",
       "            background-color:  #020202;\n",
       "            color:  #f1f1f1;\n",
       "        }#T_a3ce2542_2feb_11eb_a996_0242ac110002row6_col16{\n",
       "            font-size:  6pt;\n",
       "            background-color:  #363636;\n",
       "            color:  #f1f1f1;\n",
       "        }#T_a3ce2542_2feb_11eb_a996_0242ac110002row6_col17{\n",
       "            font-size:  6pt;\n",
       "            background-color:  #9d9d9d;\n",
       "            color:  #000000;\n",
       "        }#T_a3ce2542_2feb_11eb_a996_0242ac110002row6_col18{\n",
       "            font-size:  6pt;\n",
       "            background-color:  #dfdfdf;\n",
       "            color:  #000000;\n",
       "        }#T_a3ce2542_2feb_11eb_a996_0242ac110002row7_col7{\n",
       "            font-size:  6pt;\n",
       "            background-color:  #161616;\n",
       "            color:  #f1f1f1;\n",
       "        }#T_a3ce2542_2feb_11eb_a996_0242ac110002row7_col8,#T_a3ce2542_2feb_11eb_a996_0242ac110002row7_col9,#T_a3ce2542_2feb_11eb_a996_0242ac110002row7_col10,#T_a3ce2542_2feb_11eb_a996_0242ac110002row7_col11,#T_a3ce2542_2feb_11eb_a996_0242ac110002row7_col13{\n",
       "            font-size:  6pt;\n",
       "            background-color:  #535353;\n",
       "            color:  #f1f1f1;\n",
       "        }#T_a3ce2542_2feb_11eb_a996_0242ac110002row7_col12{\n",
       "            font-size:  6pt;\n",
       "            background-color:  #7c7c7c;\n",
       "            color:  #000000;\n",
       "        }#T_a3ce2542_2feb_11eb_a996_0242ac110002row7_col14{\n",
       "            font-size:  6pt;\n",
       "            background-color:  #3d3d3d;\n",
       "            color:  #f1f1f1;\n",
       "        }#T_a3ce2542_2feb_11eb_a996_0242ac110002row7_col18{\n",
       "            font-size:  6pt;\n",
       "            background-color:  #999999;\n",
       "            color:  #000000;\n",
       "        }#T_a3ce2542_2feb_11eb_a996_0242ac110002row8_col3{\n",
       "            font-size:  6pt;\n",
       "            background-color:  #eaeaea;\n",
       "            color:  #000000;\n",
       "        }#T_a3ce2542_2feb_11eb_a996_0242ac110002row8_col4{\n",
       "            font-size:  6pt;\n",
       "            background-color:  #d0d0d0;\n",
       "            color:  #000000;\n",
       "        }#T_a3ce2542_2feb_11eb_a996_0242ac110002row8_col5,#T_a3ce2542_2feb_11eb_a996_0242ac110002row8_col6{\n",
       "            font-size:  6pt;\n",
       "            background-color:  #eeeeee;\n",
       "            color:  #000000;\n",
       "        }#T_a3ce2542_2feb_11eb_a996_0242ac110002row8_col7{\n",
       "            font-size:  6pt;\n",
       "            background-color:  #f3f3f3;\n",
       "            color:  #000000;\n",
       "        }#T_a3ce2542_2feb_11eb_a996_0242ac110002row8_col15{\n",
       "            font-size:  6pt;\n",
       "            background-color:  #232323;\n",
       "            color:  #f1f1f1;\n",
       "        }#T_a3ce2542_2feb_11eb_a996_0242ac110002row9_col14{\n",
       "            font-size:  6pt;\n",
       "            background-color:  #c2c2c2;\n",
       "            color:  #000000;\n",
       "        }#T_a3ce2542_2feb_11eb_a996_0242ac110002row9_col17{\n",
       "            font-size:  6pt;\n",
       "            background-color:  #080808;\n",
       "            color:  #f1f1f1;\n",
       "        }#T_a3ce2542_2feb_11eb_a996_0242ac110002row9_col18{\n",
       "            font-size:  6pt;\n",
       "            background-color:  #c4c4c4;\n",
       "            color:  #000000;\n",
       "        }</style><table id=\"T_a3ce2542_2feb_11eb_a996_0242ac110002\" ><thead>    <tr>        <th class=\"blank level0\" ></th>        <th class=\"col_heading level0 col0\" >0</th>        <th class=\"col_heading level0 col1\" >1</th>        <th class=\"col_heading level0 col2\" >2</th>        <th class=\"col_heading level0 col3\" >3</th>        <th class=\"col_heading level0 col4\" >4</th>        <th class=\"col_heading level0 col5\" >5</th>        <th class=\"col_heading level0 col6\" >6</th>        <th class=\"col_heading level0 col7\" >7</th>        <th class=\"col_heading level0 col8\" >8</th>        <th class=\"col_heading level0 col9\" >9</th>        <th class=\"col_heading level0 col10\" >10</th>        <th class=\"col_heading level0 col11\" >11</th>        <th class=\"col_heading level0 col12\" >12</th>        <th class=\"col_heading level0 col13\" >13</th>        <th class=\"col_heading level0 col14\" >14</th>        <th class=\"col_heading level0 col15\" >15</th>        <th class=\"col_heading level0 col16\" >16</th>        <th class=\"col_heading level0 col17\" >17</th>        <th class=\"col_heading level0 col18\" >18</th>        <th class=\"col_heading level0 col19\" >19</th>    </tr></thead><tbody>\n",
       "                <tr>\n",
       "                        <th id=\"T_a3ce2542_2feb_11eb_a996_0242ac110002level0_row0\" class=\"row_heading level0 row0\" >0</th>\n",
       "                        <td id=\"T_a3ce2542_2feb_11eb_a996_0242ac110002row0_col0\" class=\"data row0 col0\" >0</td>\n",
       "                        <td id=\"T_a3ce2542_2feb_11eb_a996_0242ac110002row0_col1\" class=\"data row0 col1\" >0</td>\n",
       "                        <td id=\"T_a3ce2542_2feb_11eb_a996_0242ac110002row0_col2\" class=\"data row0 col2\" >0</td>\n",
       "                        <td id=\"T_a3ce2542_2feb_11eb_a996_0242ac110002row0_col3\" class=\"data row0 col3\" >0</td>\n",
       "                        <td id=\"T_a3ce2542_2feb_11eb_a996_0242ac110002row0_col4\" class=\"data row0 col4\" >0</td>\n",
       "                        <td id=\"T_a3ce2542_2feb_11eb_a996_0242ac110002row0_col5\" class=\"data row0 col5\" >0</td>\n",
       "                        <td id=\"T_a3ce2542_2feb_11eb_a996_0242ac110002row0_col6\" class=\"data row0 col6\" >0</td>\n",
       "                        <td id=\"T_a3ce2542_2feb_11eb_a996_0242ac110002row0_col7\" class=\"data row0 col7\" >0</td>\n",
       "                        <td id=\"T_a3ce2542_2feb_11eb_a996_0242ac110002row0_col8\" class=\"data row0 col8\" >0</td>\n",
       "                        <td id=\"T_a3ce2542_2feb_11eb_a996_0242ac110002row0_col9\" class=\"data row0 col9\" >0</td>\n",
       "                        <td id=\"T_a3ce2542_2feb_11eb_a996_0242ac110002row0_col10\" class=\"data row0 col10\" >0</td>\n",
       "                        <td id=\"T_a3ce2542_2feb_11eb_a996_0242ac110002row0_col11\" class=\"data row0 col11\" >0</td>\n",
       "                        <td id=\"T_a3ce2542_2feb_11eb_a996_0242ac110002row0_col12\" class=\"data row0 col12\" >0</td>\n",
       "                        <td id=\"T_a3ce2542_2feb_11eb_a996_0242ac110002row0_col13\" class=\"data row0 col13\" >0</td>\n",
       "                        <td id=\"T_a3ce2542_2feb_11eb_a996_0242ac110002row0_col14\" class=\"data row0 col14\" >0</td>\n",
       "                        <td id=\"T_a3ce2542_2feb_11eb_a996_0242ac110002row0_col15\" class=\"data row0 col15\" >0</td>\n",
       "                        <td id=\"T_a3ce2542_2feb_11eb_a996_0242ac110002row0_col16\" class=\"data row0 col16\" >0</td>\n",
       "                        <td id=\"T_a3ce2542_2feb_11eb_a996_0242ac110002row0_col17\" class=\"data row0 col17\" >0</td>\n",
       "                        <td id=\"T_a3ce2542_2feb_11eb_a996_0242ac110002row0_col18\" class=\"data row0 col18\" >0</td>\n",
       "                        <td id=\"T_a3ce2542_2feb_11eb_a996_0242ac110002row0_col19\" class=\"data row0 col19\" >0</td>\n",
       "            </tr>\n",
       "            <tr>\n",
       "                        <th id=\"T_a3ce2542_2feb_11eb_a996_0242ac110002level0_row1\" class=\"row_heading level0 row1\" >1</th>\n",
       "                        <td id=\"T_a3ce2542_2feb_11eb_a996_0242ac110002row1_col0\" class=\"data row1 col0\" >0</td>\n",
       "                        <td id=\"T_a3ce2542_2feb_11eb_a996_0242ac110002row1_col1\" class=\"data row1 col1\" >0</td>\n",
       "                        <td id=\"T_a3ce2542_2feb_11eb_a996_0242ac110002row1_col2\" class=\"data row1 col2\" >0</td>\n",
       "                        <td id=\"T_a3ce2542_2feb_11eb_a996_0242ac110002row1_col3\" class=\"data row1 col3\" >0</td>\n",
       "                        <td id=\"T_a3ce2542_2feb_11eb_a996_0242ac110002row1_col4\" class=\"data row1 col4\" >0</td>\n",
       "                        <td id=\"T_a3ce2542_2feb_11eb_a996_0242ac110002row1_col5\" class=\"data row1 col5\" >0</td>\n",
       "                        <td id=\"T_a3ce2542_2feb_11eb_a996_0242ac110002row1_col6\" class=\"data row1 col6\" >0</td>\n",
       "                        <td id=\"T_a3ce2542_2feb_11eb_a996_0242ac110002row1_col7\" class=\"data row1 col7\" >0</td>\n",
       "                        <td id=\"T_a3ce2542_2feb_11eb_a996_0242ac110002row1_col8\" class=\"data row1 col8\" >0</td>\n",
       "                        <td id=\"T_a3ce2542_2feb_11eb_a996_0242ac110002row1_col9\" class=\"data row1 col9\" >0</td>\n",
       "                        <td id=\"T_a3ce2542_2feb_11eb_a996_0242ac110002row1_col10\" class=\"data row1 col10\" >0</td>\n",
       "                        <td id=\"T_a3ce2542_2feb_11eb_a996_0242ac110002row1_col11\" class=\"data row1 col11\" >0</td>\n",
       "                        <td id=\"T_a3ce2542_2feb_11eb_a996_0242ac110002row1_col12\" class=\"data row1 col12\" >0</td>\n",
       "                        <td id=\"T_a3ce2542_2feb_11eb_a996_0242ac110002row1_col13\" class=\"data row1 col13\" >0</td>\n",
       "                        <td id=\"T_a3ce2542_2feb_11eb_a996_0242ac110002row1_col14\" class=\"data row1 col14\" >0</td>\n",
       "                        <td id=\"T_a3ce2542_2feb_11eb_a996_0242ac110002row1_col15\" class=\"data row1 col15\" >0</td>\n",
       "                        <td id=\"T_a3ce2542_2feb_11eb_a996_0242ac110002row1_col16\" class=\"data row1 col16\" >0</td>\n",
       "                        <td id=\"T_a3ce2542_2feb_11eb_a996_0242ac110002row1_col17\" class=\"data row1 col17\" >0</td>\n",
       "                        <td id=\"T_a3ce2542_2feb_11eb_a996_0242ac110002row1_col18\" class=\"data row1 col18\" >0</td>\n",
       "                        <td id=\"T_a3ce2542_2feb_11eb_a996_0242ac110002row1_col19\" class=\"data row1 col19\" >0</td>\n",
       "            </tr>\n",
       "            <tr>\n",
       "                        <th id=\"T_a3ce2542_2feb_11eb_a996_0242ac110002level0_row2\" class=\"row_heading level0 row2\" >2</th>\n",
       "                        <td id=\"T_a3ce2542_2feb_11eb_a996_0242ac110002row2_col0\" class=\"data row2 col0\" >0</td>\n",
       "                        <td id=\"T_a3ce2542_2feb_11eb_a996_0242ac110002row2_col1\" class=\"data row2 col1\" >0</td>\n",
       "                        <td id=\"T_a3ce2542_2feb_11eb_a996_0242ac110002row2_col2\" class=\"data row2 col2\" >0</td>\n",
       "                        <td id=\"T_a3ce2542_2feb_11eb_a996_0242ac110002row2_col3\" class=\"data row2 col3\" >0</td>\n",
       "                        <td id=\"T_a3ce2542_2feb_11eb_a996_0242ac110002row2_col4\" class=\"data row2 col4\" >0</td>\n",
       "                        <td id=\"T_a3ce2542_2feb_11eb_a996_0242ac110002row2_col5\" class=\"data row2 col5\" >0</td>\n",
       "                        <td id=\"T_a3ce2542_2feb_11eb_a996_0242ac110002row2_col6\" class=\"data row2 col6\" >0</td>\n",
       "                        <td id=\"T_a3ce2542_2feb_11eb_a996_0242ac110002row2_col7\" class=\"data row2 col7\" >0</td>\n",
       "                        <td id=\"T_a3ce2542_2feb_11eb_a996_0242ac110002row2_col8\" class=\"data row2 col8\" >0</td>\n",
       "                        <td id=\"T_a3ce2542_2feb_11eb_a996_0242ac110002row2_col9\" class=\"data row2 col9\" >0</td>\n",
       "                        <td id=\"T_a3ce2542_2feb_11eb_a996_0242ac110002row2_col10\" class=\"data row2 col10\" >0</td>\n",
       "                        <td id=\"T_a3ce2542_2feb_11eb_a996_0242ac110002row2_col11\" class=\"data row2 col11\" >0</td>\n",
       "                        <td id=\"T_a3ce2542_2feb_11eb_a996_0242ac110002row2_col12\" class=\"data row2 col12\" >0</td>\n",
       "                        <td id=\"T_a3ce2542_2feb_11eb_a996_0242ac110002row2_col13\" class=\"data row2 col13\" >0</td>\n",
       "                        <td id=\"T_a3ce2542_2feb_11eb_a996_0242ac110002row2_col14\" class=\"data row2 col14\" >0</td>\n",
       "                        <td id=\"T_a3ce2542_2feb_11eb_a996_0242ac110002row2_col15\" class=\"data row2 col15\" >0</td>\n",
       "                        <td id=\"T_a3ce2542_2feb_11eb_a996_0242ac110002row2_col16\" class=\"data row2 col16\" >0</td>\n",
       "                        <td id=\"T_a3ce2542_2feb_11eb_a996_0242ac110002row2_col17\" class=\"data row2 col17\" >0</td>\n",
       "                        <td id=\"T_a3ce2542_2feb_11eb_a996_0242ac110002row2_col18\" class=\"data row2 col18\" >0</td>\n",
       "                        <td id=\"T_a3ce2542_2feb_11eb_a996_0242ac110002row2_col19\" class=\"data row2 col19\" >0</td>\n",
       "            </tr>\n",
       "            <tr>\n",
       "                        <th id=\"T_a3ce2542_2feb_11eb_a996_0242ac110002level0_row3\" class=\"row_heading level0 row3\" >3</th>\n",
       "                        <td id=\"T_a3ce2542_2feb_11eb_a996_0242ac110002row3_col0\" class=\"data row3 col0\" >0</td>\n",
       "                        <td id=\"T_a3ce2542_2feb_11eb_a996_0242ac110002row3_col1\" class=\"data row3 col1\" >0</td>\n",
       "                        <td id=\"T_a3ce2542_2feb_11eb_a996_0242ac110002row3_col2\" class=\"data row3 col2\" >0</td>\n",
       "                        <td id=\"T_a3ce2542_2feb_11eb_a996_0242ac110002row3_col3\" class=\"data row3 col3\" >0</td>\n",
       "                        <td id=\"T_a3ce2542_2feb_11eb_a996_0242ac110002row3_col4\" class=\"data row3 col4\" >0</td>\n",
       "                        <td id=\"T_a3ce2542_2feb_11eb_a996_0242ac110002row3_col5\" class=\"data row3 col5\" >0</td>\n",
       "                        <td id=\"T_a3ce2542_2feb_11eb_a996_0242ac110002row3_col6\" class=\"data row3 col6\" >0</td>\n",
       "                        <td id=\"T_a3ce2542_2feb_11eb_a996_0242ac110002row3_col7\" class=\"data row3 col7\" >0</td>\n",
       "                        <td id=\"T_a3ce2542_2feb_11eb_a996_0242ac110002row3_col8\" class=\"data row3 col8\" >0</td>\n",
       "                        <td id=\"T_a3ce2542_2feb_11eb_a996_0242ac110002row3_col9\" class=\"data row3 col9\" >0</td>\n",
       "                        <td id=\"T_a3ce2542_2feb_11eb_a996_0242ac110002row3_col10\" class=\"data row3 col10\" >0</td>\n",
       "                        <td id=\"T_a3ce2542_2feb_11eb_a996_0242ac110002row3_col11\" class=\"data row3 col11\" >0</td>\n",
       "                        <td id=\"T_a3ce2542_2feb_11eb_a996_0242ac110002row3_col12\" class=\"data row3 col12\" >0</td>\n",
       "                        <td id=\"T_a3ce2542_2feb_11eb_a996_0242ac110002row3_col13\" class=\"data row3 col13\" >0</td>\n",
       "                        <td id=\"T_a3ce2542_2feb_11eb_a996_0242ac110002row3_col14\" class=\"data row3 col14\" >0</td>\n",
       "                        <td id=\"T_a3ce2542_2feb_11eb_a996_0242ac110002row3_col15\" class=\"data row3 col15\" >0</td>\n",
       "                        <td id=\"T_a3ce2542_2feb_11eb_a996_0242ac110002row3_col16\" class=\"data row3 col16\" >0</td>\n",
       "                        <td id=\"T_a3ce2542_2feb_11eb_a996_0242ac110002row3_col17\" class=\"data row3 col17\" >0</td>\n",
       "                        <td id=\"T_a3ce2542_2feb_11eb_a996_0242ac110002row3_col18\" class=\"data row3 col18\" >0</td>\n",
       "                        <td id=\"T_a3ce2542_2feb_11eb_a996_0242ac110002row3_col19\" class=\"data row3 col19\" >0</td>\n",
       "            </tr>\n",
       "            <tr>\n",
       "                        <th id=\"T_a3ce2542_2feb_11eb_a996_0242ac110002level0_row4\" class=\"row_heading level0 row4\" >4</th>\n",
       "                        <td id=\"T_a3ce2542_2feb_11eb_a996_0242ac110002row4_col0\" class=\"data row4 col0\" >0</td>\n",
       "                        <td id=\"T_a3ce2542_2feb_11eb_a996_0242ac110002row4_col1\" class=\"data row4 col1\" >0</td>\n",
       "                        <td id=\"T_a3ce2542_2feb_11eb_a996_0242ac110002row4_col2\" class=\"data row4 col2\" >0</td>\n",
       "                        <td id=\"T_a3ce2542_2feb_11eb_a996_0242ac110002row4_col3\" class=\"data row4 col3\" >0</td>\n",
       "                        <td id=\"T_a3ce2542_2feb_11eb_a996_0242ac110002row4_col4\" class=\"data row4 col4\" >0</td>\n",
       "                        <td id=\"T_a3ce2542_2feb_11eb_a996_0242ac110002row4_col5\" class=\"data row4 col5\" >0</td>\n",
       "                        <td id=\"T_a3ce2542_2feb_11eb_a996_0242ac110002row4_col6\" class=\"data row4 col6\" >0</td>\n",
       "                        <td id=\"T_a3ce2542_2feb_11eb_a996_0242ac110002row4_col7\" class=\"data row4 col7\" >0</td>\n",
       "                        <td id=\"T_a3ce2542_2feb_11eb_a996_0242ac110002row4_col8\" class=\"data row4 col8\" >0</td>\n",
       "                        <td id=\"T_a3ce2542_2feb_11eb_a996_0242ac110002row4_col9\" class=\"data row4 col9\" >0</td>\n",
       "                        <td id=\"T_a3ce2542_2feb_11eb_a996_0242ac110002row4_col10\" class=\"data row4 col10\" >0</td>\n",
       "                        <td id=\"T_a3ce2542_2feb_11eb_a996_0242ac110002row4_col11\" class=\"data row4 col11\" >0</td>\n",
       "                        <td id=\"T_a3ce2542_2feb_11eb_a996_0242ac110002row4_col12\" class=\"data row4 col12\" >0</td>\n",
       "                        <td id=\"T_a3ce2542_2feb_11eb_a996_0242ac110002row4_col13\" class=\"data row4 col13\" >0</td>\n",
       "                        <td id=\"T_a3ce2542_2feb_11eb_a996_0242ac110002row4_col14\" class=\"data row4 col14\" >0</td>\n",
       "                        <td id=\"T_a3ce2542_2feb_11eb_a996_0242ac110002row4_col15\" class=\"data row4 col15\" >0</td>\n",
       "                        <td id=\"T_a3ce2542_2feb_11eb_a996_0242ac110002row4_col16\" class=\"data row4 col16\" >0</td>\n",
       "                        <td id=\"T_a3ce2542_2feb_11eb_a996_0242ac110002row4_col17\" class=\"data row4 col17\" >0</td>\n",
       "                        <td id=\"T_a3ce2542_2feb_11eb_a996_0242ac110002row4_col18\" class=\"data row4 col18\" >0</td>\n",
       "                        <td id=\"T_a3ce2542_2feb_11eb_a996_0242ac110002row4_col19\" class=\"data row4 col19\" >0</td>\n",
       "            </tr>\n",
       "            <tr>\n",
       "                        <th id=\"T_a3ce2542_2feb_11eb_a996_0242ac110002level0_row5\" class=\"row_heading level0 row5\" >5</th>\n",
       "                        <td id=\"T_a3ce2542_2feb_11eb_a996_0242ac110002row5_col0\" class=\"data row5 col0\" >0</td>\n",
       "                        <td id=\"T_a3ce2542_2feb_11eb_a996_0242ac110002row5_col1\" class=\"data row5 col1\" >0</td>\n",
       "                        <td id=\"T_a3ce2542_2feb_11eb_a996_0242ac110002row5_col2\" class=\"data row5 col2\" >0</td>\n",
       "                        <td id=\"T_a3ce2542_2feb_11eb_a996_0242ac110002row5_col3\" class=\"data row5 col3\" >12</td>\n",
       "                        <td id=\"T_a3ce2542_2feb_11eb_a996_0242ac110002row5_col4\" class=\"data row5 col4\" >99</td>\n",
       "                        <td id=\"T_a3ce2542_2feb_11eb_a996_0242ac110002row5_col5\" class=\"data row5 col5\" >91</td>\n",
       "                        <td id=\"T_a3ce2542_2feb_11eb_a996_0242ac110002row5_col6\" class=\"data row5 col6\" >142</td>\n",
       "                        <td id=\"T_a3ce2542_2feb_11eb_a996_0242ac110002row5_col7\" class=\"data row5 col7\" >155</td>\n",
       "                        <td id=\"T_a3ce2542_2feb_11eb_a996_0242ac110002row5_col8\" class=\"data row5 col8\" >246</td>\n",
       "                        <td id=\"T_a3ce2542_2feb_11eb_a996_0242ac110002row5_col9\" class=\"data row5 col9\" >182</td>\n",
       "                        <td id=\"T_a3ce2542_2feb_11eb_a996_0242ac110002row5_col10\" class=\"data row5 col10\" >155</td>\n",
       "                        <td id=\"T_a3ce2542_2feb_11eb_a996_0242ac110002row5_col11\" class=\"data row5 col11\" >155</td>\n",
       "                        <td id=\"T_a3ce2542_2feb_11eb_a996_0242ac110002row5_col12\" class=\"data row5 col12\" >155</td>\n",
       "                        <td id=\"T_a3ce2542_2feb_11eb_a996_0242ac110002row5_col13\" class=\"data row5 col13\" >155</td>\n",
       "                        <td id=\"T_a3ce2542_2feb_11eb_a996_0242ac110002row5_col14\" class=\"data row5 col14\" >131</td>\n",
       "                        <td id=\"T_a3ce2542_2feb_11eb_a996_0242ac110002row5_col15\" class=\"data row5 col15\" >52</td>\n",
       "                        <td id=\"T_a3ce2542_2feb_11eb_a996_0242ac110002row5_col16\" class=\"data row5 col16\" >0</td>\n",
       "                        <td id=\"T_a3ce2542_2feb_11eb_a996_0242ac110002row5_col17\" class=\"data row5 col17\" >0</td>\n",
       "                        <td id=\"T_a3ce2542_2feb_11eb_a996_0242ac110002row5_col18\" class=\"data row5 col18\" >0</td>\n",
       "                        <td id=\"T_a3ce2542_2feb_11eb_a996_0242ac110002row5_col19\" class=\"data row5 col19\" >0</td>\n",
       "            </tr>\n",
       "            <tr>\n",
       "                        <th id=\"T_a3ce2542_2feb_11eb_a996_0242ac110002level0_row6\" class=\"row_heading level0 row6\" >6</th>\n",
       "                        <td id=\"T_a3ce2542_2feb_11eb_a996_0242ac110002row6_col0\" class=\"data row6 col0\" >0</td>\n",
       "                        <td id=\"T_a3ce2542_2feb_11eb_a996_0242ac110002row6_col1\" class=\"data row6 col1\" >0</td>\n",
       "                        <td id=\"T_a3ce2542_2feb_11eb_a996_0242ac110002row6_col2\" class=\"data row6 col2\" >0</td>\n",
       "                        <td id=\"T_a3ce2542_2feb_11eb_a996_0242ac110002row6_col3\" class=\"data row6 col3\" >138</td>\n",
       "                        <td id=\"T_a3ce2542_2feb_11eb_a996_0242ac110002row6_col4\" class=\"data row6 col4\" >254</td>\n",
       "                        <td id=\"T_a3ce2542_2feb_11eb_a996_0242ac110002row6_col5\" class=\"data row6 col5\" >254</td>\n",
       "                        <td id=\"T_a3ce2542_2feb_11eb_a996_0242ac110002row6_col6\" class=\"data row6 col6\" >254</td>\n",
       "                        <td id=\"T_a3ce2542_2feb_11eb_a996_0242ac110002row6_col7\" class=\"data row6 col7\" >254</td>\n",
       "                        <td id=\"T_a3ce2542_2feb_11eb_a996_0242ac110002row6_col8\" class=\"data row6 col8\" >254</td>\n",
       "                        <td id=\"T_a3ce2542_2feb_11eb_a996_0242ac110002row6_col9\" class=\"data row6 col9\" >254</td>\n",
       "                        <td id=\"T_a3ce2542_2feb_11eb_a996_0242ac110002row6_col10\" class=\"data row6 col10\" >254</td>\n",
       "                        <td id=\"T_a3ce2542_2feb_11eb_a996_0242ac110002row6_col11\" class=\"data row6 col11\" >254</td>\n",
       "                        <td id=\"T_a3ce2542_2feb_11eb_a996_0242ac110002row6_col12\" class=\"data row6 col12\" >254</td>\n",
       "                        <td id=\"T_a3ce2542_2feb_11eb_a996_0242ac110002row6_col13\" class=\"data row6 col13\" >254</td>\n",
       "                        <td id=\"T_a3ce2542_2feb_11eb_a996_0242ac110002row6_col14\" class=\"data row6 col14\" >254</td>\n",
       "                        <td id=\"T_a3ce2542_2feb_11eb_a996_0242ac110002row6_col15\" class=\"data row6 col15\" >252</td>\n",
       "                        <td id=\"T_a3ce2542_2feb_11eb_a996_0242ac110002row6_col16\" class=\"data row6 col16\" >210</td>\n",
       "                        <td id=\"T_a3ce2542_2feb_11eb_a996_0242ac110002row6_col17\" class=\"data row6 col17\" >122</td>\n",
       "                        <td id=\"T_a3ce2542_2feb_11eb_a996_0242ac110002row6_col18\" class=\"data row6 col18\" >33</td>\n",
       "                        <td id=\"T_a3ce2542_2feb_11eb_a996_0242ac110002row6_col19\" class=\"data row6 col19\" >0</td>\n",
       "            </tr>\n",
       "            <tr>\n",
       "                        <th id=\"T_a3ce2542_2feb_11eb_a996_0242ac110002level0_row7\" class=\"row_heading level0 row7\" >7</th>\n",
       "                        <td id=\"T_a3ce2542_2feb_11eb_a996_0242ac110002row7_col0\" class=\"data row7 col0\" >0</td>\n",
       "                        <td id=\"T_a3ce2542_2feb_11eb_a996_0242ac110002row7_col1\" class=\"data row7 col1\" >0</td>\n",
       "                        <td id=\"T_a3ce2542_2feb_11eb_a996_0242ac110002row7_col2\" class=\"data row7 col2\" >0</td>\n",
       "                        <td id=\"T_a3ce2542_2feb_11eb_a996_0242ac110002row7_col3\" class=\"data row7 col3\" >220</td>\n",
       "                        <td id=\"T_a3ce2542_2feb_11eb_a996_0242ac110002row7_col4\" class=\"data row7 col4\" >254</td>\n",
       "                        <td id=\"T_a3ce2542_2feb_11eb_a996_0242ac110002row7_col5\" class=\"data row7 col5\" >254</td>\n",
       "                        <td id=\"T_a3ce2542_2feb_11eb_a996_0242ac110002row7_col6\" class=\"data row7 col6\" >254</td>\n",
       "                        <td id=\"T_a3ce2542_2feb_11eb_a996_0242ac110002row7_col7\" class=\"data row7 col7\" >235</td>\n",
       "                        <td id=\"T_a3ce2542_2feb_11eb_a996_0242ac110002row7_col8\" class=\"data row7 col8\" >189</td>\n",
       "                        <td id=\"T_a3ce2542_2feb_11eb_a996_0242ac110002row7_col9\" class=\"data row7 col9\" >189</td>\n",
       "                        <td id=\"T_a3ce2542_2feb_11eb_a996_0242ac110002row7_col10\" class=\"data row7 col10\" >189</td>\n",
       "                        <td id=\"T_a3ce2542_2feb_11eb_a996_0242ac110002row7_col11\" class=\"data row7 col11\" >189</td>\n",
       "                        <td id=\"T_a3ce2542_2feb_11eb_a996_0242ac110002row7_col12\" class=\"data row7 col12\" >150</td>\n",
       "                        <td id=\"T_a3ce2542_2feb_11eb_a996_0242ac110002row7_col13\" class=\"data row7 col13\" >189</td>\n",
       "                        <td id=\"T_a3ce2542_2feb_11eb_a996_0242ac110002row7_col14\" class=\"data row7 col14\" >205</td>\n",
       "                        <td id=\"T_a3ce2542_2feb_11eb_a996_0242ac110002row7_col15\" class=\"data row7 col15\" >254</td>\n",
       "                        <td id=\"T_a3ce2542_2feb_11eb_a996_0242ac110002row7_col16\" class=\"data row7 col16\" >254</td>\n",
       "                        <td id=\"T_a3ce2542_2feb_11eb_a996_0242ac110002row7_col17\" class=\"data row7 col17\" >254</td>\n",
       "                        <td id=\"T_a3ce2542_2feb_11eb_a996_0242ac110002row7_col18\" class=\"data row7 col18\" >75</td>\n",
       "                        <td id=\"T_a3ce2542_2feb_11eb_a996_0242ac110002row7_col19\" class=\"data row7 col19\" >0</td>\n",
       "            </tr>\n",
       "            <tr>\n",
       "                        <th id=\"T_a3ce2542_2feb_11eb_a996_0242ac110002level0_row8\" class=\"row_heading level0 row8\" >8</th>\n",
       "                        <td id=\"T_a3ce2542_2feb_11eb_a996_0242ac110002row8_col0\" class=\"data row8 col0\" >0</td>\n",
       "                        <td id=\"T_a3ce2542_2feb_11eb_a996_0242ac110002row8_col1\" class=\"data row8 col1\" >0</td>\n",
       "                        <td id=\"T_a3ce2542_2feb_11eb_a996_0242ac110002row8_col2\" class=\"data row8 col2\" >0</td>\n",
       "                        <td id=\"T_a3ce2542_2feb_11eb_a996_0242ac110002row8_col3\" class=\"data row8 col3\" >35</td>\n",
       "                        <td id=\"T_a3ce2542_2feb_11eb_a996_0242ac110002row8_col4\" class=\"data row8 col4\" >74</td>\n",
       "                        <td id=\"T_a3ce2542_2feb_11eb_a996_0242ac110002row8_col5\" class=\"data row8 col5\" >35</td>\n",
       "                        <td id=\"T_a3ce2542_2feb_11eb_a996_0242ac110002row8_col6\" class=\"data row8 col6\" >35</td>\n",
       "                        <td id=\"T_a3ce2542_2feb_11eb_a996_0242ac110002row8_col7\" class=\"data row8 col7\" >25</td>\n",
       "                        <td id=\"T_a3ce2542_2feb_11eb_a996_0242ac110002row8_col8\" class=\"data row8 col8\" >0</td>\n",
       "                        <td id=\"T_a3ce2542_2feb_11eb_a996_0242ac110002row8_col9\" class=\"data row8 col9\" >0</td>\n",
       "                        <td id=\"T_a3ce2542_2feb_11eb_a996_0242ac110002row8_col10\" class=\"data row8 col10\" >0</td>\n",
       "                        <td id=\"T_a3ce2542_2feb_11eb_a996_0242ac110002row8_col11\" class=\"data row8 col11\" >0</td>\n",
       "                        <td id=\"T_a3ce2542_2feb_11eb_a996_0242ac110002row8_col12\" class=\"data row8 col12\" >0</td>\n",
       "                        <td id=\"T_a3ce2542_2feb_11eb_a996_0242ac110002row8_col13\" class=\"data row8 col13\" >0</td>\n",
       "                        <td id=\"T_a3ce2542_2feb_11eb_a996_0242ac110002row8_col14\" class=\"data row8 col14\" >13</td>\n",
       "                        <td id=\"T_a3ce2542_2feb_11eb_a996_0242ac110002row8_col15\" class=\"data row8 col15\" >224</td>\n",
       "                        <td id=\"T_a3ce2542_2feb_11eb_a996_0242ac110002row8_col16\" class=\"data row8 col16\" >254</td>\n",
       "                        <td id=\"T_a3ce2542_2feb_11eb_a996_0242ac110002row8_col17\" class=\"data row8 col17\" >254</td>\n",
       "                        <td id=\"T_a3ce2542_2feb_11eb_a996_0242ac110002row8_col18\" class=\"data row8 col18\" >153</td>\n",
       "                        <td id=\"T_a3ce2542_2feb_11eb_a996_0242ac110002row8_col19\" class=\"data row8 col19\" >0</td>\n",
       "            </tr>\n",
       "            <tr>\n",
       "                        <th id=\"T_a3ce2542_2feb_11eb_a996_0242ac110002level0_row9\" class=\"row_heading level0 row9\" >9</th>\n",
       "                        <td id=\"T_a3ce2542_2feb_11eb_a996_0242ac110002row9_col0\" class=\"data row9 col0\" >0</td>\n",
       "                        <td id=\"T_a3ce2542_2feb_11eb_a996_0242ac110002row9_col1\" class=\"data row9 col1\" >0</td>\n",
       "                        <td id=\"T_a3ce2542_2feb_11eb_a996_0242ac110002row9_col2\" class=\"data row9 col2\" >0</td>\n",
       "                        <td id=\"T_a3ce2542_2feb_11eb_a996_0242ac110002row9_col3\" class=\"data row9 col3\" >0</td>\n",
       "                        <td id=\"T_a3ce2542_2feb_11eb_a996_0242ac110002row9_col4\" class=\"data row9 col4\" >0</td>\n",
       "                        <td id=\"T_a3ce2542_2feb_11eb_a996_0242ac110002row9_col5\" class=\"data row9 col5\" >0</td>\n",
       "                        <td id=\"T_a3ce2542_2feb_11eb_a996_0242ac110002row9_col6\" class=\"data row9 col6\" >0</td>\n",
       "                        <td id=\"T_a3ce2542_2feb_11eb_a996_0242ac110002row9_col7\" class=\"data row9 col7\" >0</td>\n",
       "                        <td id=\"T_a3ce2542_2feb_11eb_a996_0242ac110002row9_col8\" class=\"data row9 col8\" >0</td>\n",
       "                        <td id=\"T_a3ce2542_2feb_11eb_a996_0242ac110002row9_col9\" class=\"data row9 col9\" >0</td>\n",
       "                        <td id=\"T_a3ce2542_2feb_11eb_a996_0242ac110002row9_col10\" class=\"data row9 col10\" >0</td>\n",
       "                        <td id=\"T_a3ce2542_2feb_11eb_a996_0242ac110002row9_col11\" class=\"data row9 col11\" >0</td>\n",
       "                        <td id=\"T_a3ce2542_2feb_11eb_a996_0242ac110002row9_col12\" class=\"data row9 col12\" >0</td>\n",
       "                        <td id=\"T_a3ce2542_2feb_11eb_a996_0242ac110002row9_col13\" class=\"data row9 col13\" >0</td>\n",
       "                        <td id=\"T_a3ce2542_2feb_11eb_a996_0242ac110002row9_col14\" class=\"data row9 col14\" >90</td>\n",
       "                        <td id=\"T_a3ce2542_2feb_11eb_a996_0242ac110002row9_col15\" class=\"data row9 col15\" >254</td>\n",
       "                        <td id=\"T_a3ce2542_2feb_11eb_a996_0242ac110002row9_col16\" class=\"data row9 col16\" >254</td>\n",
       "                        <td id=\"T_a3ce2542_2feb_11eb_a996_0242ac110002row9_col17\" class=\"data row9 col17\" >247</td>\n",
       "                        <td id=\"T_a3ce2542_2feb_11eb_a996_0242ac110002row9_col18\" class=\"data row9 col18\" >53</td>\n",
       "                        <td id=\"T_a3ce2542_2feb_11eb_a996_0242ac110002row9_col19\" class=\"data row9 col19\" >0</td>\n",
       "            </tr>\n",
       "    </tbody></table>"
      ],
      "text/plain": [
       "<pandas.io.formats.style.Styler at 0x7f330a4aed00>"
      ]
     },
     "execution_count": 6,
     "metadata": {},
     "output_type": "execute_result"
    }
   ],
   "source": [
    "df = pd.DataFrame(im3_tensor[:10, :20])\n",
    "df.style.set_properties(**{'font-size':'6pt'}).background_gradient('Greys')"
   ]
  },
  {
   "cell_type": "markdown",
   "metadata": {},
   "source": [
    "At cell 5,7 there is a top edge to detect, so lets apply the kernel there:"
   ]
  },
  {
   "cell_type": "code",
   "execution_count": 7,
   "metadata": {},
   "outputs": [
    {
     "data": {
      "text/plain": [
       "tensor(762)"
      ]
     },
     "execution_count": 7,
     "metadata": {},
     "output_type": "execute_result"
    }
   ],
   "source": [
    "(im3_tensor[4:7, 4:7] * top_edge).sum()"
   ]
  },
  {
   "cell_type": "markdown",
   "metadata": {},
   "source": [
    "... and a right edge at 8,18:"
   ]
  },
  {
   "cell_type": "code",
   "execution_count": 8,
   "metadata": {},
   "outputs": [
    {
     "data": {
      "text/plain": [
       "tensor(-29)"
      ]
     },
     "execution_count": 8,
     "metadata": {},
     "output_type": "execute_result"
    }
   ],
   "source": [
    "(im3_tensor[7:10, 17:20] * top_edge).sum()"
   ]
  },
  {
   "cell_type": "code",
   "execution_count": 9,
   "metadata": {},
   "outputs": [],
   "source": [
    "def apply_kernel(t, row, col, kernel):\n",
    "    return (t[row-1:row+2, col-1:col+2]*kernel).sum()"
   ]
  },
  {
   "cell_type": "code",
   "execution_count": 10,
   "metadata": {},
   "outputs": [
    {
     "data": {
      "text/plain": [
       "tensor(762)"
      ]
     },
     "execution_count": 10,
     "metadata": {},
     "output_type": "execute_result"
    }
   ],
   "source": [
    "apply_kernel(im3_tensor, 5, 7, top_edge)"
   ]
  },
  {
   "cell_type": "markdown",
   "metadata": {},
   "source": [
    "Applying the kernel to each valid position:"
   ]
  },
  {
   "cell_type": "code",
   "execution_count": 11,
   "metadata": {},
   "outputs": [],
   "source": [
    "rng = range(1, 27)\n",
    "top_edge3 = tensor([apply_kernel(im3_tensor, row, col, top_edge) for row in rng for col in rng]).view(26, 26)"
   ]
  },
  {
   "cell_type": "code",
   "execution_count": 12,
   "metadata": {},
   "outputs": [
    {
     "data": {
      "image/png": "[encoded data removed]",
      "text/plain": [
       "<Figure size 72x72 with 1 Axes>"
      ]
     },
     "metadata": {
      "needs_background": "light"
     },
     "output_type": "display_data"
    }
   ],
   "source": [
    "show_image(top_edge3, cmap='gray_r');"
   ]
  },
  {
   "cell_type": "markdown",
   "metadata": {},
   "source": [
    "Convolutions from PyTorch:"
   ]
  },
  {
   "cell_type": "code",
   "execution_count": 13,
   "metadata": {},
   "outputs": [
    {
     "data": {
      "image/png": "[encoded data removed]",
      "text/plain": [
       "<Figure size 72x72 with 1 Axes>"
      ]
     },
     "metadata": {
      "needs_background": "light"
     },
     "output_type": "display_data"
    }
   ],
   "source": [
    "left_edge = tensor([[-1, 1, 0],\n",
    "                   [-1, 1, 0],\n",
    "                   [-1, 1, 0]])\n",
    "left_edge3 = tensor([apply_kernel(im3_tensor, row, col, left_edge) for row in rng for col in rng]).view(26, 26)\n",
    "\n",
    "show_image(left_edge3, cmap='gray_r');"
   ]
  },
  {
   "cell_type": "code",
   "execution_count": 14,
   "metadata": {},
   "outputs": [
    {
     "data": {
      "text/plain": [
       "<function _VariableFunctionsClass.conv2d>"
      ]
     },
     "execution_count": 14,
     "metadata": {},
     "output_type": "execute_result"
    }
   ],
   "source": [
    "F.conv2d"
   ]
  },
  {
   "cell_type": "markdown",
   "metadata": {},
   "source": [
    "PyTorchs conv2d function can act on multiple images (batch) and apply multiple kernels at once."
   ]
  },
  {
   "cell_type": "code",
   "execution_count": 15,
   "metadata": {},
   "outputs": [
    {
     "data": {
      "text/plain": [
       "torch.Size([4, 3, 3])"
      ]
     },
     "execution_count": 15,
     "metadata": {},
     "output_type": "execute_result"
    }
   ],
   "source": [
    "diag1_edge = tensor([[0, -1, 1],\n",
    "                    [-1, 1, 0],\n",
    "                    [1, 0, 0]]).float()\n",
    "diag2_edge = tensor([[1, -1, 0],\n",
    "                    [0, 1, -1],\n",
    "                    [0, 0, 1]]).float()\n",
    "\n",
    "edge_kernels = torch.stack([left_edge, top_edge, diag1_edge, diag2_edge])\n",
    "edge_kernels.shape"
   ]
  },
  {
   "cell_type": "markdown",
   "metadata": {},
   "source": [
    "Testing this funcionality requires us to have a minibatch of data:"
   ]
  },
  {
   "cell_type": "code",
   "execution_count": 16,
   "metadata": {},
   "outputs": [
    {
     "data": {
      "text/plain": [
       "torch.Size([64, 1, 28, 28])"
      ]
     },
     "execution_count": 16,
     "metadata": {},
     "output_type": "execute_result"
    }
   ],
   "source": [
    "mnist = DataBlock((ImageBlock(cls=PILImageBW), CategoryBlock),\n",
    "                 get_items=get_image_files,\n",
    "                 splitter=GrandparentSplitter(),\n",
    "                 get_y=parent_label)\n",
    "\n",
    "dls = mnist.dataloaders(path)\n",
    "xb, yb = first(dls.valid)\n",
    "xb.shape"
   ]
  },
  {
   "cell_type": "code",
   "execution_count": 17,
   "metadata": {},
   "outputs": [],
   "source": [
    "xb = to_cpu(xb)\n",
    "yb = to_cpu(yb)"
   ]
  },
  {
   "cell_type": "markdown",
   "metadata": {},
   "source": [
    "The expected kernel shape is:\n",
    "\n",
    "[features_out, channels_in, rows, columns]\n",
    "\n",
    "The kernel tensor we have so far is missing the channels_in:"
   ]
  },
  {
   "cell_type": "code",
   "execution_count": 18,
   "metadata": {},
   "outputs": [
    {
     "data": {
      "text/plain": [
       "torch.Size([4, 1, 3, 3])"
      ]
     },
     "execution_count": 18,
     "metadata": {},
     "output_type": "execute_result"
    }
   ],
   "source": [
    "edge_kernels = edge_kernels.unsqueeze(1)\n",
    "edge_kernels.shape"
   ]
  },
  {
   "cell_type": "code",
   "execution_count": 19,
   "metadata": {},
   "outputs": [
    {
     "data": {
      "text/plain": [
       "torch.Size([64, 4, 26, 26])"
      ]
     },
     "execution_count": 19,
     "metadata": {},
     "output_type": "execute_result"
    }
   ],
   "source": [
    "batch_features = F.conv2d(xb, edge_kernels)\n",
    "batch_features.shape"
   ]
  },
  {
   "cell_type": "code",
   "execution_count": 20,
   "metadata": {},
   "outputs": [
    {
     "data": {
      "text/plain": [
       "<AxesSubplot:>"
      ]
     },
     "execution_count": 20,
     "metadata": {},
     "output_type": "execute_result"
    },
    {
     "data": {
      "image/png": "[encoded data removed]",
      "text/plain": [
       "<Figure size 72x72 with 1 Axes>"
      ]
     },
     "metadata": {
      "needs_background": "light"
     },
     "output_type": "display_data"
    }
   ],
   "source": [
    "show_image(batch_features[0, 0, :, :], cmap='gray_r')"
   ]
  },
  {
   "cell_type": "markdown",
   "metadata": {},
   "source": [
    "# Strides and padding"
   ]
  },
  {
   "cell_type": "markdown",
   "metadata": {},
   "source": [
    "- Padding: Add pixel around the border to make sure that the output size after applying the convolution is the same as the input size\n",
    "- Stride: Move the kernel by more than one pixel at a time"
   ]
  },
  {
   "cell_type": "markdown",
   "metadata": {},
   "source": [
    "# Simple CNN"
   ]
  },
  {
   "cell_type": "code",
   "execution_count": 21,
   "metadata": {},
   "outputs": [],
   "source": [
    "broken_cnn = sequential(\n",
    "    nn.Conv2d(1, 30, kernel_size=3, padding=1),\n",
    "    nn.ReLU(),\n",
    "    nn.Conv2d(30, 1, kernel_size=3, padding=1))"
   ]
  },
  {
   "cell_type": "code",
   "execution_count": 22,
   "metadata": {},
   "outputs": [
    {
     "data": {
      "text/plain": [
       "torch.Size([64, 1, 28, 28])"
      ]
     },
     "execution_count": 22,
     "metadata": {},
     "output_type": "execute_result"
    }
   ],
   "source": [
    "broken_cnn(xb).shape"
   ]
  },
  {
   "cell_type": "markdown",
   "metadata": {},
   "source": [
    "One way to make the shape of the output match the expected (for the prediction) is to use stride-2 convolutions to achieve the desired dimension. Note that this makes the net depend on the exact shape of the input."
   ]
  },
  {
   "cell_type": "code",
   "execution_count": 23,
   "metadata": {},
   "outputs": [],
   "source": [
    "def conv(n_input, n_filters, kernel_size=3, activation=True):\n",
    "    res = nn.Conv2d(n_input, n_filters, stride=2, kernel_size=kernel_size, padding=kernel_size//2)\n",
    "    if activation: res = nn.Sequential(res, nn.ReLU())\n",
    "    return res"
   ]
  },
  {
   "cell_type": "code",
   "execution_count": 24,
   "metadata": {},
   "outputs": [],
   "source": [
    "simple_cnn = sequential(\n",
    "    conv(1, 4),\n",
    "    conv(4,8),\n",
    "    conv(8, 16),\n",
    "    conv(16,32),\n",
    "    conv(32,2, activation=False),\n",
    "    Flatten())"
   ]
  },
  {
   "cell_type": "code",
   "execution_count": 25,
   "metadata": {},
   "outputs": [
    {
     "data": {
      "text/plain": [
       "torch.Size([64, 2])"
      ]
     },
     "execution_count": 25,
     "metadata": {},
     "output_type": "execute_result"
    }
   ],
   "source": [
    "simple_cnn(xb).shape"
   ]
  },
  {
   "cell_type": "code",
   "execution_count": 26,
   "metadata": {},
   "outputs": [
    {
     "data": {
      "text/html": [
       "<table border=\"1\" class=\"dataframe\">\n",
       "  <thead>\n",
       "    <tr style=\"text-align: left;\">\n",
       "      <th>epoch</th>\n",
       "      <th>train_loss</th>\n",
       "      <th>valid_loss</th>\n",
       "      <th>accuracy</th>\n",
       "      <th>time</th>\n",
       "    </tr>\n",
       "  </thead>\n",
       "  <tbody>\n",
       "    <tr>\n",
       "      <td>0</td>\n",
       "      <td>None</td>\n",
       "      <td>None</td>\n",
       "      <td>00:00</td>\n",
       "    </tr>\n",
       "  </tbody>\n",
       "</table>"
      ],
      "text/plain": [
       "<IPython.core.display.HTML object>"
      ]
     },
     "metadata": {},
     "output_type": "display_data"
    },
    {
     "data": {
      "text/plain": [
       "Sequential (Input shape: ['64 x 1 x 28 x 28'])\n",
       "================================================================\n",
       "Layer (type)         Output Shape         Param #    Trainable \n",
       "================================================================\n",
       "Conv2d               64 x 4 x 14 x 14     40         True      \n",
       "________________________________________________________________\n",
       "ReLU                 64 x 4 x 14 x 14     0          False     \n",
       "________________________________________________________________\n",
       "Conv2d               64 x 8 x 7 x 7       296        True      \n",
       "________________________________________________________________\n",
       "ReLU                 64 x 8 x 7 x 7       0          False     \n",
       "________________________________________________________________\n",
       "Conv2d               64 x 16 x 4 x 4      1,168      True      \n",
       "________________________________________________________________\n",
       "ReLU                 64 x 16 x 4 x 4      0          False     \n",
       "________________________________________________________________\n",
       "Conv2d               64 x 32 x 2 x 2      4,640      True      \n",
       "________________________________________________________________\n",
       "ReLU                 64 x 32 x 2 x 2      0          False     \n",
       "________________________________________________________________\n",
       "Conv2d               64 x 2 x 1 x 1       578        True      \n",
       "________________________________________________________________\n",
       "Flatten              64 x 2               0          False     \n",
       "________________________________________________________________\n",
       "\n",
       "Total params: 6,722\n",
       "Total trainable params: 6,722\n",
       "Total non-trainable params: 0\n",
       "\n",
       "Optimizer used: <function Adam at 0x7f330ab74820>\n",
       "Loss function: <function cross_entropy at 0x7f331213a5e0>\n",
       "\n",
       "Callbacks:\n",
       "  - TrainEvalCallback\n",
       "  - Recorder\n",
       "  - ProgressCallback"
      ]
     },
     "execution_count": 26,
     "metadata": {},
     "output_type": "execute_result"
    }
   ],
   "source": [
    "learn = Learner(dls, simple_cnn, loss_func=F.cross_entropy, metrics=accuracy)\n",
    "learn.summary()"
   ]
  },
  {
   "cell_type": "code",
   "execution_count": 27,
   "metadata": {},
   "outputs": [
    {
     "data": {
      "text/html": [
       "<table border=\"1\" class=\"dataframe\">\n",
       "  <thead>\n",
       "    <tr style=\"text-align: left;\">\n",
       "      <th>epoch</th>\n",
       "      <th>train_loss</th>\n",
       "      <th>valid_loss</th>\n",
       "      <th>accuracy</th>\n",
       "      <th>time</th>\n",
       "    </tr>\n",
       "  </thead>\n",
       "  <tbody>\n",
       "    <tr>\n",
       "      <td>0</td>\n",
       "      <td>0.054553</td>\n",
       "      <td>0.052877</td>\n",
       "      <td>0.982336</td>\n",
       "      <td>00:04</td>\n",
       "    </tr>\n",
       "    <tr>\n",
       "      <td>1</td>\n",
       "      <td>0.020399</td>\n",
       "      <td>0.031239</td>\n",
       "      <td>0.990677</td>\n",
       "      <td>00:02</td>\n",
       "    </tr>\n",
       "  </tbody>\n",
       "</table>"
      ],
      "text/plain": [
       "<IPython.core.display.HTML object>"
      ]
     },
     "metadata": {},
     "output_type": "display_data"
    }
   ],
   "source": [
    "learn.fit_one_cycle(2, 0.01)"
   ]
  },
  {
   "cell_type": "markdown",
   "metadata": {},
   "source": [
    "# Improving training stability"
   ]
  },
  {
   "cell_type": "code",
   "execution_count": 28,
   "metadata": {},
   "outputs": [
    {
     "data": {
      "text/plain": [
       "(#2) [Path('/storage/data/mnist_png/training'),Path('/storage/data/mnist_png/testing')]"
      ]
     },
     "execution_count": 28,
     "metadata": {},
     "output_type": "execute_result"
    }
   ],
   "source": [
    "path = untar_data(URLs.MNIST)\n",
    "path.ls()"
   ]
  },
  {
   "cell_type": "code",
   "execution_count": 29,
   "metadata": {},
   "outputs": [],
   "source": [
    "def get_dls(bs=64):\n",
    "    db = DataBlock((ImageBlock(cls=PILImageBW), CategoryBlock),\n",
    "                   get_items=get_image_files,\n",
    "                   splitter=GrandparentSplitter('training', 'testing'),\n",
    "                   get_y=parent_label,\n",
    "                   batch_tfms=Normalize())\n",
    "    return db.dataloaders(path, bs=bs)\n",
    "\n",
    "dls = get_dls()"
   ]
  },
  {
   "cell_type": "code",
   "execution_count": 30,
   "metadata": {},
   "outputs": [
    {
     "data": {
      "image/png": "[encoded data removed]",
      "text/plain": [
       "<Figure size 288x288 with 9 Axes>"
      ]
     },
     "metadata": {
      "needs_background": "light"
     },
     "output_type": "display_data"
    }
   ],
   "source": [
    "dls.show_batch(max_n=9, figsize=(4,4))"
   ]
  },
  {
   "cell_type": "markdown",
   "metadata": {},
   "source": [
    "When increasing the amount of output filters it's important to note how many input pixels are looked at for each activation pixel. In case of a 3x3 kernel it's 9 pixels, so having 8 output filters probably won't do much. That's why we increase the kernel size to 5x5:"
   ]
  },
  {
   "cell_type": "code",
   "execution_count": 31,
   "metadata": {},
   "outputs": [],
   "source": [
    "def simple_cnn():\n",
    "    return sequential(\n",
    "        conv(1, 8, kernel_size=5),\n",
    "        conv(8, 16),\n",
    "        conv(16, 32),\n",
    "        conv(32, 64),\n",
    "        conv(64,10, activation=False),\n",
    "        Flatten())"
   ]
  },
  {
   "cell_type": "code",
   "execution_count": 32,
   "metadata": {},
   "outputs": [],
   "source": [
    "from fastai.callback.hook import *"
   ]
  },
  {
   "cell_type": "code",
   "execution_count": 33,
   "metadata": {},
   "outputs": [],
   "source": [
    "def fit(epochs=1, lr=0.06):\n",
    "    learn = Learner(dls, simple_cnn(), loss_func=F.cross_entropy, metrics=accuracy, cbs=ActivationStats(with_hist=True))\n",
    "    learn.fit(epochs, lr)\n",
    "    return learn"
   ]
  },
  {
   "cell_type": "code",
   "execution_count": 34,
   "metadata": {},
   "outputs": [
    {
     "data": {
      "text/html": [
       "<table border=\"1\" class=\"dataframe\">\n",
       "  <thead>\n",
       "    <tr style=\"text-align: left;\">\n",
       "      <th>epoch</th>\n",
       "      <th>train_loss</th>\n",
       "      <th>valid_loss</th>\n",
       "      <th>accuracy</th>\n",
       "      <th>time</th>\n",
       "    </tr>\n",
       "  </thead>\n",
       "  <tbody>\n",
       "    <tr>\n",
       "      <td>0</td>\n",
       "      <td>2.307662</td>\n",
       "      <td>2.304240</td>\n",
       "      <td>0.101000</td>\n",
       "      <td>00:54</td>\n",
       "    </tr>\n",
       "  </tbody>\n",
       "</table>"
      ],
      "text/plain": [
       "<IPython.core.display.HTML object>"
      ]
     },
     "metadata": {},
     "output_type": "display_data"
    }
   ],
   "source": [
    "learn = fit()"
   ]
  },
  {
   "cell_type": "markdown",
   "metadata": {},
   "source": [
    "This didn't train at all it seems... The following plots the mean and std of the activations of the chosen layer (by index):"
   ]
  },
  {
   "cell_type": "code",
   "execution_count": 35,
   "metadata": {},
   "outputs": [
    {
     "data": {
      "image/png": "[encoded data removed]",
      "text/plain": [
       "<Figure size 864x216 with 3 Axes>"
      ]
     },
     "metadata": {
      "needs_background": "light"
     },
     "output_type": "display_data"
    }
   ],
   "source": [
    "learn.activation_stats.plot_layer_stats(0)"
   ]
  },
  {
   "cell_type": "code",
   "execution_count": 36,
   "metadata": {},
   "outputs": [
    {
     "data": {
      "image/png": "[encoded data removed]",
      "text/plain": [
       "<Figure size 864x216 with 3 Axes>"
      ]
     },
     "metadata": {
      "needs_background": "light"
     },
     "output_type": "display_data"
    }
   ],
   "source": [
    "learn.activation_stats.plot_layer_stats(-2)"
   ]
  },
  {
   "cell_type": "markdown",
   "metadata": {},
   "source": [
    "## Increase the batch size"
   ]
  },
  {
   "cell_type": "code",
   "execution_count": 37,
   "metadata": {},
   "outputs": [
    {
     "data": {
      "text/html": [
       "<table border=\"1\" class=\"dataframe\">\n",
       "  <thead>\n",
       "    <tr style=\"text-align: left;\">\n",
       "      <th>epoch</th>\n",
       "      <th>train_loss</th>\n",
       "      <th>valid_loss</th>\n",
       "      <th>accuracy</th>\n",
       "      <th>time</th>\n",
       "    </tr>\n",
       "  </thead>\n",
       "  <tbody>\n",
       "    <tr>\n",
       "      <td>0</td>\n",
       "      <td>0.476768</td>\n",
       "      <td>0.253136</td>\n",
       "      <td>0.921100</td>\n",
       "      <td>00:17</td>\n",
       "    </tr>\n",
       "  </tbody>\n",
       "</table>"
      ],
      "text/plain": [
       "<IPython.core.display.HTML object>"
      ]
     },
     "metadata": {},
     "output_type": "display_data"
    }
   ],
   "source": [
    "dls = get_dls(512)\n",
    "learn = fit(lr=6e-2)"
   ]
  },
  {
   "cell_type": "code",
   "execution_count": 38,
   "metadata": {},
   "outputs": [
    {
     "data": {
      "text/html": [
       "<table border=\"1\" class=\"dataframe\">\n",
       "  <thead>\n",
       "    <tr style=\"text-align: left;\">\n",
       "      <th>epoch</th>\n",
       "      <th>train_loss</th>\n",
       "      <th>valid_loss</th>\n",
       "      <th>accuracy</th>\n",
       "      <th>time</th>\n",
       "    </tr>\n",
       "  </thead>\n",
       "  <tbody>\n",
       "    <tr>\n",
       "      <td>0</td>\n",
       "      <td>0.548369</td>\n",
       "      <td>0.247856</td>\n",
       "      <td>0.926800</td>\n",
       "      <td>00:16</td>\n",
       "    </tr>\n",
       "  </tbody>\n",
       "</table>"
      ],
      "text/plain": [
       "<IPython.core.display.HTML object>"
      ]
     },
     "metadata": {},
     "output_type": "display_data"
    }
   ],
   "source": [
    "dls = get_dls(512)\n",
    "learn = fit(lr=1e-3)"
   ]
  },
  {
   "cell_type": "code",
   "execution_count": 39,
   "metadata": {},
   "outputs": [
    {
     "data": {
      "image/png": "[encoded data removed]",
      "text/plain": [
       "<Figure size 864x216 with 3 Axes>"
      ]
     },
     "metadata": {
      "needs_background": "light"
     },
     "output_type": "display_data"
    }
   ],
   "source": [
    "learn.activation_stats.plot_layer_stats(-2)"
   ]
  },
  {
   "cell_type": "markdown",
   "metadata": {},
   "source": [
    "# 1cycle Training"
   ]
  },
  {
   "cell_type": "code",
   "execution_count": 40,
   "metadata": {},
   "outputs": [],
   "source": [
    "def fit(epochs=1, lr=0.06):\n",
    "    learn = Learner(dls, simple_cnn(), loss_func=F.cross_entropy, metrics=accuracy, cbs=ActivationStats(with_hist=True))\n",
    "    learn.fit_one_cycle(epochs, lr)\n",
    "    return learn"
   ]
  },
  {
   "cell_type": "code",
   "execution_count": 41,
   "metadata": {},
   "outputs": [
    {
     "data": {
      "text/html": [
       "<table border=\"1\" class=\"dataframe\">\n",
       "  <thead>\n",
       "    <tr style=\"text-align: left;\">\n",
       "      <th>epoch</th>\n",
       "      <th>train_loss</th>\n",
       "      <th>valid_loss</th>\n",
       "      <th>accuracy</th>\n",
       "      <th>time</th>\n",
       "    </tr>\n",
       "  </thead>\n",
       "  <tbody>\n",
       "    <tr>\n",
       "      <td>0</td>\n",
       "      <td>0.218170</td>\n",
       "      <td>0.079294</td>\n",
       "      <td>0.974600</td>\n",
       "      <td>00:17</td>\n",
       "    </tr>\n",
       "  </tbody>\n",
       "</table>"
      ],
      "text/plain": [
       "<IPython.core.display.HTML object>"
      ]
     },
     "metadata": {},
     "output_type": "display_data"
    }
   ],
   "source": [
    "learn = fit()"
   ]
  },
  {
   "cell_type": "code",
   "execution_count": 42,
   "metadata": {},
   "outputs": [
    {
     "data": {
      "image/png": "[encoded data removed]",
      "text/plain": [
       "<Figure size 864x216 with 3 Axes>"
      ]
     },
     "metadata": {
      "needs_background": "light"
     },
     "output_type": "display_data"
    }
   ],
   "source": [
    "learn.activation_stats.plot_layer_stats(-2)"
   ]
  },
  {
   "cell_type": "code",
   "execution_count": 43,
   "metadata": {},
   "outputs": [
    {
     "data": {
      "image/png": "[encoded data removed]",
      "text/plain": [
       "<Figure size 720x360 with 1 Axes>"
      ]
     },
     "metadata": {
      "needs_background": "light"
     },
     "output_type": "display_data"
    }
   ],
   "source": [
    "learn.activation_stats.color_dim(-2)"
   ]
  },
  {
   "cell_type": "code",
   "execution_count": 44,
   "metadata": {},
   "outputs": [
    {
     "data": {
      "text/html": [
       "<table border=\"1\" class=\"dataframe\">\n",
       "  <thead>\n",
       "    <tr style=\"text-align: left;\">\n",
       "      <th>epoch</th>\n",
       "      <th>train_loss</th>\n",
       "      <th>valid_loss</th>\n",
       "      <th>accuracy</th>\n",
       "      <th>time</th>\n",
       "    </tr>\n",
       "  </thead>\n",
       "  <tbody>\n",
       "    <tr>\n",
       "      <td>0</td>\n",
       "      <td>None</td>\n",
       "      <td>None</td>\n",
       "      <td>00:00</td>\n",
       "    </tr>\n",
       "  </tbody>\n",
       "</table>"
      ],
      "text/plain": [
       "<IPython.core.display.HTML object>"
      ]
     },
     "metadata": {},
     "output_type": "display_data"
    },
    {
     "data": {
      "text/plain": [
       "Sequential (Input shape: ['512 x 1 x 28 x 28'])\n",
       "================================================================\n",
       "Layer (type)         Output Shape         Param #    Trainable \n",
       "================================================================\n",
       "Conv2d               512 x 8 x 14 x 14    208        True      \n",
       "________________________________________________________________\n",
       "ReLU                 512 x 8 x 14 x 14    0          False     \n",
       "________________________________________________________________\n",
       "Conv2d               512 x 16 x 7 x 7     1,168      True      \n",
       "________________________________________________________________\n",
       "ReLU                 512 x 16 x 7 x 7     0          False     \n",
       "________________________________________________________________\n",
       "Conv2d               512 x 32 x 4 x 4     4,640      True      \n",
       "________________________________________________________________\n",
       "ReLU                 512 x 32 x 4 x 4     0          False     \n",
       "________________________________________________________________\n",
       "Conv2d               512 x 64 x 2 x 2     18,496     True      \n",
       "________________________________________________________________\n",
       "ReLU                 512 x 64 x 2 x 2     0          False     \n",
       "________________________________________________________________\n",
       "Conv2d               512 x 10 x 1 x 1     5,770      True      \n",
       "________________________________________________________________\n",
       "Flatten              512 x 10             0          False     \n",
       "________________________________________________________________\n",
       "\n",
       "Total params: 30,282\n",
       "Total trainable params: 30,282\n",
       "Total non-trainable params: 0\n",
       "\n",
       "Optimizer used: <function Adam at 0x7f330ab74820>\n",
       "Loss function: <function cross_entropy at 0x7f331213a5e0>\n",
       "\n",
       "Model unfrozen\n",
       "\n",
       "Callbacks:\n",
       "  - ActivationStats\n",
       "  - TrainEvalCallback\n",
       "  - Recorder\n",
       "  - ProgressCallback"
      ]
     },
     "execution_count": 44,
     "metadata": {},
     "output_type": "execute_result"
    }
   ],
   "source": [
    "learn.summary()"
   ]
  },
  {
   "cell_type": "markdown",
   "metadata": {},
   "source": [
    "# BatchNorm"
   ]
  },
  {
   "cell_type": "code",
   "execution_count": 45,
   "metadata": {},
   "outputs": [],
   "source": [
    "def conv(n_input, n_filters, kernel_size=3, activation=True):\n",
    "    layers = [nn.Conv2d(n_input, n_filters, stride=2, kernel_size=kernel_size, padding=kernel_size//2)]\n",
    "    layers.append(nn.BatchNorm2d(n_filters))\n",
    "    if activation: layers.append(nn.ReLU())\n",
    "    return nn.Sequential(*layers)"
   ]
  },
  {
   "cell_type": "code",
   "execution_count": 46,
   "metadata": {},
   "outputs": [
    {
     "data": {
      "text/html": [
       "<table border=\"1\" class=\"dataframe\">\n",
       "  <thead>\n",
       "    <tr style=\"text-align: left;\">\n",
       "      <th>epoch</th>\n",
       "      <th>train_loss</th>\n",
       "      <th>valid_loss</th>\n",
       "      <th>accuracy</th>\n",
       "      <th>time</th>\n",
       "    </tr>\n",
       "  </thead>\n",
       "  <tbody>\n",
       "    <tr>\n",
       "      <td>0</td>\n",
       "      <td>0.138614</td>\n",
       "      <td>0.059360</td>\n",
       "      <td>0.986500</td>\n",
       "      <td>00:22</td>\n",
       "    </tr>\n",
       "  </tbody>\n",
       "</table>"
      ],
      "text/plain": [
       "<IPython.core.display.HTML object>"
      ]
     },
     "metadata": {},
     "output_type": "display_data"
    }
   ],
   "source": [
    "learn = fit()"
   ]
  },
  {
   "cell_type": "code",
   "execution_count": 47,
   "metadata": {},
   "outputs": [
    {
     "data": {
      "image/png": "[encoded data removed]",
      "text/plain": [
       "<Figure size 720x360 with 1 Axes>"
      ]
     },
     "metadata": {
      "needs_background": "light"
     },
     "output_type": "display_data"
    }
   ],
   "source": [
    "learn.activation_stats.color_dim(-4)"
   ]
  },
  {
   "cell_type": "code",
   "execution_count": 48,
   "metadata": {},
   "outputs": [
    {
     "data": {
      "text/html": [
       "<table border=\"1\" class=\"dataframe\">\n",
       "  <thead>\n",
       "    <tr style=\"text-align: left;\">\n",
       "      <th>epoch</th>\n",
       "      <th>train_loss</th>\n",
       "      <th>valid_loss</th>\n",
       "      <th>accuracy</th>\n",
       "      <th>time</th>\n",
       "    </tr>\n",
       "  </thead>\n",
       "  <tbody>\n",
       "    <tr>\n",
       "      <td>0</td>\n",
       "      <td>0.182700</td>\n",
       "      <td>0.087460</td>\n",
       "      <td>0.973000</td>\n",
       "      <td>00:22</td>\n",
       "    </tr>\n",
       "    <tr>\n",
       "      <td>1</td>\n",
       "      <td>0.076603</td>\n",
       "      <td>0.062632</td>\n",
       "      <td>0.980700</td>\n",
       "      <td>00:21</td>\n",
       "    </tr>\n",
       "    <tr>\n",
       "      <td>2</td>\n",
       "      <td>0.051598</td>\n",
       "      <td>0.050113</td>\n",
       "      <td>0.984400</td>\n",
       "      <td>00:19</td>\n",
       "    </tr>\n",
       "    <tr>\n",
       "      <td>3</td>\n",
       "      <td>0.031460</td>\n",
       "      <td>0.032241</td>\n",
       "      <td>0.989300</td>\n",
       "      <td>00:22</td>\n",
       "    </tr>\n",
       "    <tr>\n",
       "      <td>4</td>\n",
       "      <td>0.016144</td>\n",
       "      <td>0.027235</td>\n",
       "      <td>0.991200</td>\n",
       "      <td>00:22</td>\n",
       "    </tr>\n",
       "  </tbody>\n",
       "</table>"
      ],
      "text/plain": [
       "<IPython.core.display.HTML object>"
      ]
     },
     "metadata": {},
     "output_type": "display_data"
    }
   ],
   "source": [
    "learn = fit(5, lr=.1)"
   ]
  },
  {
   "cell_type": "code",
   "execution_count": null,
   "metadata": {},
   "outputs": [],
   "source": []
  }
 ],
 "metadata": {
  "kernelspec": {
   "display_name": "Python 3",
   "language": "python",
   "name": "python3"
  },
  "language_info": {
   "codemirror_mode": {
    "name": "ipython",
    "version": 3
   },
   "file_extension": ".py",
   "mimetype": "text/x-python",
   "name": "python",
   "nbconvert_exporter": "python",
   "pygments_lexer": "ipython3",
   "version": "3.8.5"
  }
 },
 "nbformat": 4,
 "nbformat_minor": 4
}
