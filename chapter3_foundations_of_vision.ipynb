{
 "cells": [
  {
   "cell_type": "code",
   "execution_count": 1,
   "metadata": {},
   "outputs": [],
   "source": [
    "from fastai.vision.all import *"
   ]
  },
  {
   "cell_type": "markdown",
   "metadata": {},
   "source": [
    "# Foundations of computer vision"
   ]
  },
  {
   "cell_type": "code",
   "execution_count": 3,
   "metadata": {},
   "outputs": [
    {
     "data": {
      "text/plain": [
       "(#3) [Path('/storage/data/mnist_sample/labels.csv'),Path('/storage/data/mnist_sample/valid'),Path('/storage/data/mnist_sample/train')]"
      ]
     },
     "execution_count": 3,
     "metadata": {},
     "output_type": "execute_result"
    }
   ],
   "source": [
    "path = untar_data(URLs.MNIST_SAMPLE)\n",
    "path.ls()"
   ]
  },
  {
   "cell_type": "code",
   "execution_count": 4,
   "metadata": {},
   "outputs": [
    {
     "data": {
      "text/plain": [
       "(#2) [Path('/storage/data/mnist_sample/train/7'),Path('/storage/data/mnist_sample/train/3')]"
      ]
     },
     "execution_count": 4,
     "metadata": {},
     "output_type": "execute_result"
    }
   ],
   "source": [
    "(path/'train').ls()"
   ]
  },
  {
   "cell_type": "markdown",
   "metadata": {},
   "source": [
    "This dataset only contains the subset of '3' and '7' from the original MNIST dataset."
   ]
  },
  {
   "cell_type": "code",
   "execution_count": 5,
   "metadata": {},
   "outputs": [
    {
     "data": {
      "text/plain": [
       "(#6131) [Path('/storage/data/mnist_sample/train/3/10.png'),Path('/storage/data/mnist_sample/train/3/10000.png'),Path('/storage/data/mnist_sample/train/3/10011.png'),Path('/storage/data/mnist_sample/train/3/10031.png'),Path('/storage/data/mnist_sample/train/3/10034.png'),Path('/storage/data/mnist_sample/train/3/10042.png'),Path('/storage/data/mnist_sample/train/3/10052.png'),Path('/storage/data/mnist_sample/train/3/1007.png'),Path('/storage/data/mnist_sample/train/3/10074.png'),Path('/storage/data/mnist_sample/train/3/10091.png')...]"
      ]
     },
     "execution_count": 5,
     "metadata": {},
     "output_type": "execute_result"
    }
   ],
   "source": [
    "threes = (path/'train/3').ls().sorted()\n",
    "sevens = (path/'train/7').ls().sorted()\n",
    "threes"
   ]
  },
  {
   "cell_type": "markdown",
   "metadata": {},
   "source": [
    "## How are images stored"
   ]
  },
  {
   "cell_type": "code",
   "execution_count": 6,
   "metadata": {},
   "outputs": [
    {
     "data": {
      "image/png": "[encoded data removed]",
      "text/plain": [
       "<PIL.PngImagePlugin.PngImageFile image mode=L size=28x28 at 0x7F4AA9E2CB80>"
      ]
     },
     "execution_count": 6,
     "metadata": {},
     "output_type": "execute_result"
    }
   ],
   "source": [
    "im3_path = threes[1]\n",
    "im3 = Image.open(im3_path)\n",
    "im3"
   ]
  },
  {
   "cell_type": "code",
   "execution_count": 8,
   "metadata": {},
   "outputs": [
    {
     "data": {
      "text/plain": [
       "array([[  0,   0,   0,   0,   0,   0],\n",
       "       [  0,   0,   0,   0,   0,  29],\n",
       "       [  0,   0,   0,  48, 166, 224],\n",
       "       [  0,  93, 244, 249, 253, 187],\n",
       "       [  0, 107, 253, 253, 230,  48],\n",
       "       [  0,   3,  20,  20,  15,   0]], dtype=uint8)"
      ]
     },
     "execution_count": 8,
     "metadata": {},
     "output_type": "execute_result"
    }
   ],
   "source": [
    "np.array(im3)[4:10, 4:10]"
   ]
  },
  {
   "cell_type": "code",
   "execution_count": 14,
   "metadata": {},
   "outputs": [
    {
     "data": {
      "text/html": [
       "<style  type=\"text/css\" >\n",
       "#T_0195c066_1d1a_11eb_a808_0242ac110002row0_col0,#T_0195c066_1d1a_11eb_a808_0242ac110002row0_col1,#T_0195c066_1d1a_11eb_a808_0242ac110002row0_col2,#T_0195c066_1d1a_11eb_a808_0242ac110002row0_col3,#T_0195c066_1d1a_11eb_a808_0242ac110002row0_col4,#T_0195c066_1d1a_11eb_a808_0242ac110002row0_col5,#T_0195c066_1d1a_11eb_a808_0242ac110002row0_col6,#T_0195c066_1d1a_11eb_a808_0242ac110002row0_col7,#T_0195c066_1d1a_11eb_a808_0242ac110002row0_col8,#T_0195c066_1d1a_11eb_a808_0242ac110002row0_col9,#T_0195c066_1d1a_11eb_a808_0242ac110002row0_col10,#T_0195c066_1d1a_11eb_a808_0242ac110002row0_col11,#T_0195c066_1d1a_11eb_a808_0242ac110002row0_col12,#T_0195c066_1d1a_11eb_a808_0242ac110002row0_col13,#T_0195c066_1d1a_11eb_a808_0242ac110002row0_col14,#T_0195c066_1d1a_11eb_a808_0242ac110002row0_col15,#T_0195c066_1d1a_11eb_a808_0242ac110002row0_col16,#T_0195c066_1d1a_11eb_a808_0242ac110002row0_col17,#T_0195c066_1d1a_11eb_a808_0242ac110002row1_col0,#T_0195c066_1d1a_11eb_a808_0242ac110002row1_col1,#T_0195c066_1d1a_11eb_a808_0242ac110002row1_col2,#T_0195c066_1d1a_11eb_a808_0242ac110002row1_col3,#T_0195c066_1d1a_11eb_a808_0242ac110002row1_col4,#T_0195c066_1d1a_11eb_a808_0242ac110002row1_col15,#T_0195c066_1d1a_11eb_a808_0242ac110002row1_col16,#T_0195c066_1d1a_11eb_a808_0242ac110002row1_col17,#T_0195c066_1d1a_11eb_a808_0242ac110002row2_col0,#T_0195c066_1d1a_11eb_a808_0242ac110002row2_col1,#T_0195c066_1d1a_11eb_a808_0242ac110002row2_col2,#T_0195c066_1d1a_11eb_a808_0242ac110002row2_col15,#T_0195c066_1d1a_11eb_a808_0242ac110002row2_col16,#T_0195c066_1d1a_11eb_a808_0242ac110002row2_col17,#T_0195c066_1d1a_11eb_a808_0242ac110002row3_col0,#T_0195c066_1d1a_11eb_a808_0242ac110002row3_col15,#T_0195c066_1d1a_11eb_a808_0242ac110002row3_col16,#T_0195c066_1d1a_11eb_a808_0242ac110002row3_col17,#T_0195c066_1d1a_11eb_a808_0242ac110002row4_col0,#T_0195c066_1d1a_11eb_a808_0242ac110002row4_col6,#T_0195c066_1d1a_11eb_a808_0242ac110002row4_col7,#T_0195c066_1d1a_11eb_a808_0242ac110002row4_col8,#T_0195c066_1d1a_11eb_a808_0242ac110002row4_col9,#T_0195c066_1d1a_11eb_a808_0242ac110002row4_col10,#T_0195c066_1d1a_11eb_a808_0242ac110002row4_col15,#T_0195c066_1d1a_11eb_a808_0242ac110002row4_col16,#T_0195c066_1d1a_11eb_a808_0242ac110002row4_col17,#T_0195c066_1d1a_11eb_a808_0242ac110002row5_col0,#T_0195c066_1d1a_11eb_a808_0242ac110002row5_col5,#T_0195c066_1d1a_11eb_a808_0242ac110002row5_col6,#T_0195c066_1d1a_11eb_a808_0242ac110002row5_col7,#T_0195c066_1d1a_11eb_a808_0242ac110002row5_col8,#T_0195c066_1d1a_11eb_a808_0242ac110002row5_col9,#T_0195c066_1d1a_11eb_a808_0242ac110002row5_col15,#T_0195c066_1d1a_11eb_a808_0242ac110002row5_col16,#T_0195c066_1d1a_11eb_a808_0242ac110002row5_col17,#T_0195c066_1d1a_11eb_a808_0242ac110002row6_col0,#T_0195c066_1d1a_11eb_a808_0242ac110002row6_col1,#T_0195c066_1d1a_11eb_a808_0242ac110002row6_col2,#T_0195c066_1d1a_11eb_a808_0242ac110002row6_col3,#T_0195c066_1d1a_11eb_a808_0242ac110002row6_col4,#T_0195c066_1d1a_11eb_a808_0242ac110002row6_col5,#T_0195c066_1d1a_11eb_a808_0242ac110002row6_col6,#T_0195c066_1d1a_11eb_a808_0242ac110002row6_col7,#T_0195c066_1d1a_11eb_a808_0242ac110002row6_col8,#T_0195c066_1d1a_11eb_a808_0242ac110002row6_col9,#T_0195c066_1d1a_11eb_a808_0242ac110002row6_col14,#T_0195c066_1d1a_11eb_a808_0242ac110002row6_col15,#T_0195c066_1d1a_11eb_a808_0242ac110002row6_col16,#T_0195c066_1d1a_11eb_a808_0242ac110002row6_col17,#T_0195c066_1d1a_11eb_a808_0242ac110002row7_col0,#T_0195c066_1d1a_11eb_a808_0242ac110002row7_col1,#T_0195c066_1d1a_11eb_a808_0242ac110002row7_col2,#T_0195c066_1d1a_11eb_a808_0242ac110002row7_col3,#T_0195c066_1d1a_11eb_a808_0242ac110002row7_col4,#T_0195c066_1d1a_11eb_a808_0242ac110002row7_col5,#T_0195c066_1d1a_11eb_a808_0242ac110002row7_col6,#T_0195c066_1d1a_11eb_a808_0242ac110002row7_col13,#T_0195c066_1d1a_11eb_a808_0242ac110002row7_col14,#T_0195c066_1d1a_11eb_a808_0242ac110002row7_col15,#T_0195c066_1d1a_11eb_a808_0242ac110002row7_col16,#T_0195c066_1d1a_11eb_a808_0242ac110002row7_col17,#T_0195c066_1d1a_11eb_a808_0242ac110002row8_col0,#T_0195c066_1d1a_11eb_a808_0242ac110002row8_col1,#T_0195c066_1d1a_11eb_a808_0242ac110002row8_col2,#T_0195c066_1d1a_11eb_a808_0242ac110002row8_col3,#T_0195c066_1d1a_11eb_a808_0242ac110002row8_col4,#T_0195c066_1d1a_11eb_a808_0242ac110002row8_col13,#T_0195c066_1d1a_11eb_a808_0242ac110002row8_col14,#T_0195c066_1d1a_11eb_a808_0242ac110002row8_col15,#T_0195c066_1d1a_11eb_a808_0242ac110002row8_col16,#T_0195c066_1d1a_11eb_a808_0242ac110002row8_col17,#T_0195c066_1d1a_11eb_a808_0242ac110002row9_col0,#T_0195c066_1d1a_11eb_a808_0242ac110002row9_col1,#T_0195c066_1d1a_11eb_a808_0242ac110002row9_col2,#T_0195c066_1d1a_11eb_a808_0242ac110002row9_col3,#T_0195c066_1d1a_11eb_a808_0242ac110002row9_col4,#T_0195c066_1d1a_11eb_a808_0242ac110002row9_col16,#T_0195c066_1d1a_11eb_a808_0242ac110002row9_col17,#T_0195c066_1d1a_11eb_a808_0242ac110002row10_col0,#T_0195c066_1d1a_11eb_a808_0242ac110002row10_col1,#T_0195c066_1d1a_11eb_a808_0242ac110002row10_col2,#T_0195c066_1d1a_11eb_a808_0242ac110002row10_col3,#T_0195c066_1d1a_11eb_a808_0242ac110002row10_col4,#T_0195c066_1d1a_11eb_a808_0242ac110002row10_col5,#T_0195c066_1d1a_11eb_a808_0242ac110002row10_col6,#T_0195c066_1d1a_11eb_a808_0242ac110002row10_col17{\n",
       "            background-color:  #ffffff;\n",
       "            color:  #000000;\n",
       "        }#T_0195c066_1d1a_11eb_a808_0242ac110002row1_col5{\n",
       "            background-color:  #efefef;\n",
       "            color:  #000000;\n",
       "        }#T_0195c066_1d1a_11eb_a808_0242ac110002row1_col6,#T_0195c066_1d1a_11eb_a808_0242ac110002row1_col13{\n",
       "            background-color:  #7c7c7c;\n",
       "            color:  #000000;\n",
       "        }#T_0195c066_1d1a_11eb_a808_0242ac110002row1_col7{\n",
       "            background-color:  #4a4a4a;\n",
       "            color:  #f1f1f1;\n",
       "        }#T_0195c066_1d1a_11eb_a808_0242ac110002row1_col8,#T_0195c066_1d1a_11eb_a808_0242ac110002row1_col9,#T_0195c066_1d1a_11eb_a808_0242ac110002row1_col10,#T_0195c066_1d1a_11eb_a808_0242ac110002row2_col5,#T_0195c066_1d1a_11eb_a808_0242ac110002row2_col6,#T_0195c066_1d1a_11eb_a808_0242ac110002row2_col7,#T_0195c066_1d1a_11eb_a808_0242ac110002row2_col11,#T_0195c066_1d1a_11eb_a808_0242ac110002row2_col12,#T_0195c066_1d1a_11eb_a808_0242ac110002row2_col13,#T_0195c066_1d1a_11eb_a808_0242ac110002row3_col4,#T_0195c066_1d1a_11eb_a808_0242ac110002row3_col12,#T_0195c066_1d1a_11eb_a808_0242ac110002row3_col13,#T_0195c066_1d1a_11eb_a808_0242ac110002row4_col1,#T_0195c066_1d1a_11eb_a808_0242ac110002row4_col2,#T_0195c066_1d1a_11eb_a808_0242ac110002row4_col3,#T_0195c066_1d1a_11eb_a808_0242ac110002row4_col12,#T_0195c066_1d1a_11eb_a808_0242ac110002row4_col13,#T_0195c066_1d1a_11eb_a808_0242ac110002row5_col12,#T_0195c066_1d1a_11eb_a808_0242ac110002row6_col11,#T_0195c066_1d1a_11eb_a808_0242ac110002row9_col11,#T_0195c066_1d1a_11eb_a808_0242ac110002row10_col11,#T_0195c066_1d1a_11eb_a808_0242ac110002row10_col12,#T_0195c066_1d1a_11eb_a808_0242ac110002row10_col13,#T_0195c066_1d1a_11eb_a808_0242ac110002row10_col14,#T_0195c066_1d1a_11eb_a808_0242ac110002row10_col15,#T_0195c066_1d1a_11eb_a808_0242ac110002row10_col16{\n",
       "            background-color:  #000000;\n",
       "            color:  #f1f1f1;\n",
       "        }#T_0195c066_1d1a_11eb_a808_0242ac110002row1_col11{\n",
       "            background-color:  #606060;\n",
       "            color:  #f1f1f1;\n",
       "        }#T_0195c066_1d1a_11eb_a808_0242ac110002row1_col12{\n",
       "            background-color:  #4d4d4d;\n",
       "            color:  #f1f1f1;\n",
       "        }#T_0195c066_1d1a_11eb_a808_0242ac110002row1_col14{\n",
       "            background-color:  #bbbbbb;\n",
       "            color:  #000000;\n",
       "        }#T_0195c066_1d1a_11eb_a808_0242ac110002row2_col3{\n",
       "            background-color:  #e4e4e4;\n",
       "            color:  #000000;\n",
       "        }#T_0195c066_1d1a_11eb_a808_0242ac110002row2_col4,#T_0195c066_1d1a_11eb_a808_0242ac110002row8_col6{\n",
       "            background-color:  #6b6b6b;\n",
       "            color:  #000000;\n",
       "        }#T_0195c066_1d1a_11eb_a808_0242ac110002row2_col8,#T_0195c066_1d1a_11eb_a808_0242ac110002row2_col14,#T_0195c066_1d1a_11eb_a808_0242ac110002row3_col14{\n",
       "            background-color:  #171717;\n",
       "            color:  #f1f1f1;\n",
       "        }#T_0195c066_1d1a_11eb_a808_0242ac110002row2_col9,#T_0195c066_1d1a_11eb_a808_0242ac110002row3_col11{\n",
       "            background-color:  #4b4b4b;\n",
       "            color:  #f1f1f1;\n",
       "        }#T_0195c066_1d1a_11eb_a808_0242ac110002row2_col10,#T_0195c066_1d1a_11eb_a808_0242ac110002row7_col10,#T_0195c066_1d1a_11eb_a808_0242ac110002row8_col8,#T_0195c066_1d1a_11eb_a808_0242ac110002row8_col10,#T_0195c066_1d1a_11eb_a808_0242ac110002row9_col8,#T_0195c066_1d1a_11eb_a808_0242ac110002row9_col10{\n",
       "            background-color:  #010101;\n",
       "            color:  #f1f1f1;\n",
       "        }#T_0195c066_1d1a_11eb_a808_0242ac110002row3_col1{\n",
       "            background-color:  #272727;\n",
       "            color:  #f1f1f1;\n",
       "        }#T_0195c066_1d1a_11eb_a808_0242ac110002row3_col2{\n",
       "            background-color:  #0a0a0a;\n",
       "            color:  #f1f1f1;\n",
       "        }#T_0195c066_1d1a_11eb_a808_0242ac110002row3_col3{\n",
       "            background-color:  #050505;\n",
       "            color:  #f1f1f1;\n",
       "        }#T_0195c066_1d1a_11eb_a808_0242ac110002row3_col5{\n",
       "            background-color:  #333333;\n",
       "            color:  #f1f1f1;\n",
       "        }#T_0195c066_1d1a_11eb_a808_0242ac110002row3_col6{\n",
       "            background-color:  #e6e6e6;\n",
       "            color:  #000000;\n",
       "        }#T_0195c066_1d1a_11eb_a808_0242ac110002row3_col7,#T_0195c066_1d1a_11eb_a808_0242ac110002row3_col10{\n",
       "            background-color:  #fafafa;\n",
       "            color:  #000000;\n",
       "        }#T_0195c066_1d1a_11eb_a808_0242ac110002row3_col8{\n",
       "            background-color:  #fbfbfb;\n",
       "            color:  #000000;\n",
       "        }#T_0195c066_1d1a_11eb_a808_0242ac110002row3_col9{\n",
       "            background-color:  #fdfdfd;\n",
       "            color:  #000000;\n",
       "        }#T_0195c066_1d1a_11eb_a808_0242ac110002row4_col4{\n",
       "            background-color:  #1b1b1b;\n",
       "            color:  #f1f1f1;\n",
       "        }#T_0195c066_1d1a_11eb_a808_0242ac110002row4_col5{\n",
       "            background-color:  #e0e0e0;\n",
       "            color:  #000000;\n",
       "        }#T_0195c066_1d1a_11eb_a808_0242ac110002row4_col11{\n",
       "            background-color:  #4e4e4e;\n",
       "            color:  #f1f1f1;\n",
       "        }#T_0195c066_1d1a_11eb_a808_0242ac110002row4_col14{\n",
       "            background-color:  #767676;\n",
       "            color:  #000000;\n",
       "        }#T_0195c066_1d1a_11eb_a808_0242ac110002row5_col1{\n",
       "            background-color:  #fcfcfc;\n",
       "            color:  #000000;\n",
       "        }#T_0195c066_1d1a_11eb_a808_0242ac110002row5_col2,#T_0195c066_1d1a_11eb_a808_0242ac110002row5_col3{\n",
       "            background-color:  #f6f6f6;\n",
       "            color:  #000000;\n",
       "        }#T_0195c066_1d1a_11eb_a808_0242ac110002row5_col4,#T_0195c066_1d1a_11eb_a808_0242ac110002row7_col7{\n",
       "            background-color:  #f8f8f8;\n",
       "            color:  #000000;\n",
       "        }#T_0195c066_1d1a_11eb_a808_0242ac110002row5_col10,#T_0195c066_1d1a_11eb_a808_0242ac110002row10_col7{\n",
       "            background-color:  #e8e8e8;\n",
       "            color:  #000000;\n",
       "        }#T_0195c066_1d1a_11eb_a808_0242ac110002row5_col11{\n",
       "            background-color:  #222222;\n",
       "            color:  #f1f1f1;\n",
       "        }#T_0195c066_1d1a_11eb_a808_0242ac110002row5_col13,#T_0195c066_1d1a_11eb_a808_0242ac110002row6_col12{\n",
       "            background-color:  #090909;\n",
       "            color:  #f1f1f1;\n",
       "        }#T_0195c066_1d1a_11eb_a808_0242ac110002row5_col14{\n",
       "            background-color:  #d0d0d0;\n",
       "            color:  #000000;\n",
       "        }#T_0195c066_1d1a_11eb_a808_0242ac110002row6_col10,#T_0195c066_1d1a_11eb_a808_0242ac110002row7_col11,#T_0195c066_1d1a_11eb_a808_0242ac110002row9_col6{\n",
       "            background-color:  #060606;\n",
       "            color:  #f1f1f1;\n",
       "        }#T_0195c066_1d1a_11eb_a808_0242ac110002row6_col13{\n",
       "            background-color:  #979797;\n",
       "            color:  #000000;\n",
       "        }#T_0195c066_1d1a_11eb_a808_0242ac110002row7_col8{\n",
       "            background-color:  #b6b6b6;\n",
       "            color:  #000000;\n",
       "        }#T_0195c066_1d1a_11eb_a808_0242ac110002row7_col9{\n",
       "            background-color:  #252525;\n",
       "            color:  #f1f1f1;\n",
       "        }#T_0195c066_1d1a_11eb_a808_0242ac110002row7_col12{\n",
       "            background-color:  #999999;\n",
       "            color:  #000000;\n",
       "        }#T_0195c066_1d1a_11eb_a808_0242ac110002row8_col5{\n",
       "            background-color:  #f9f9f9;\n",
       "            color:  #000000;\n",
       "        }#T_0195c066_1d1a_11eb_a808_0242ac110002row8_col7{\n",
       "            background-color:  #101010;\n",
       "            color:  #f1f1f1;\n",
       "        }#T_0195c066_1d1a_11eb_a808_0242ac110002row8_col9,#T_0195c066_1d1a_11eb_a808_0242ac110002row9_col9{\n",
       "            background-color:  #020202;\n",
       "            color:  #f1f1f1;\n",
       "        }#T_0195c066_1d1a_11eb_a808_0242ac110002row8_col11{\n",
       "            background-color:  #545454;\n",
       "            color:  #f1f1f1;\n",
       "        }#T_0195c066_1d1a_11eb_a808_0242ac110002row8_col12{\n",
       "            background-color:  #f1f1f1;\n",
       "            color:  #000000;\n",
       "        }#T_0195c066_1d1a_11eb_a808_0242ac110002row9_col5{\n",
       "            background-color:  #f7f7f7;\n",
       "            color:  #000000;\n",
       "        }#T_0195c066_1d1a_11eb_a808_0242ac110002row9_col7{\n",
       "            background-color:  #030303;\n",
       "            color:  #f1f1f1;\n",
       "        }#T_0195c066_1d1a_11eb_a808_0242ac110002row9_col12{\n",
       "            background-color:  #181818;\n",
       "            color:  #f1f1f1;\n",
       "        }#T_0195c066_1d1a_11eb_a808_0242ac110002row9_col13{\n",
       "            background-color:  #303030;\n",
       "            color:  #f1f1f1;\n",
       "        }#T_0195c066_1d1a_11eb_a808_0242ac110002row9_col14{\n",
       "            background-color:  #a9a9a9;\n",
       "            color:  #000000;\n",
       "        }#T_0195c066_1d1a_11eb_a808_0242ac110002row9_col15{\n",
       "            background-color:  #fefefe;\n",
       "            color:  #000000;\n",
       "        }#T_0195c066_1d1a_11eb_a808_0242ac110002row10_col8,#T_0195c066_1d1a_11eb_a808_0242ac110002row10_col9{\n",
       "            background-color:  #bababa;\n",
       "            color:  #000000;\n",
       "        }#T_0195c066_1d1a_11eb_a808_0242ac110002row10_col10{\n",
       "            background-color:  #393939;\n",
       "            color:  #f1f1f1;\n",
       "        }</style><table id=\"T_0195c066_1d1a_11eb_a808_0242ac110002\" ><thead>    <tr>        <th class=\"blank level0\" ></th>        <th class=\"col_heading level0 col0\" >0</th>        <th class=\"col_heading level0 col1\" >1</th>        <th class=\"col_heading level0 col2\" >2</th>        <th class=\"col_heading level0 col3\" >3</th>        <th class=\"col_heading level0 col4\" >4</th>        <th class=\"col_heading level0 col5\" >5</th>        <th class=\"col_heading level0 col6\" >6</th>        <th class=\"col_heading level0 col7\" >7</th>        <th class=\"col_heading level0 col8\" >8</th>        <th class=\"col_heading level0 col9\" >9</th>        <th class=\"col_heading level0 col10\" >10</th>        <th class=\"col_heading level0 col11\" >11</th>        <th class=\"col_heading level0 col12\" >12</th>        <th class=\"col_heading level0 col13\" >13</th>        <th class=\"col_heading level0 col14\" >14</th>        <th class=\"col_heading level0 col15\" >15</th>        <th class=\"col_heading level0 col16\" >16</th>        <th class=\"col_heading level0 col17\" >17</th>    </tr></thead><tbody>\n",
       "                <tr>\n",
       "                        <th id=\"T_0195c066_1d1a_11eb_a808_0242ac110002level0_row0\" class=\"row_heading level0 row0\" >0</th>\n",
       "                        <td id=\"T_0195c066_1d1a_11eb_a808_0242ac110002row0_col0\" class=\"data row0 col0\" >0</td>\n",
       "                        <td id=\"T_0195c066_1d1a_11eb_a808_0242ac110002row0_col1\" class=\"data row0 col1\" >0</td>\n",
       "                        <td id=\"T_0195c066_1d1a_11eb_a808_0242ac110002row0_col2\" class=\"data row0 col2\" >0</td>\n",
       "                        <td id=\"T_0195c066_1d1a_11eb_a808_0242ac110002row0_col3\" class=\"data row0 col3\" >0</td>\n",
       "                        <td id=\"T_0195c066_1d1a_11eb_a808_0242ac110002row0_col4\" class=\"data row0 col4\" >0</td>\n",
       "                        <td id=\"T_0195c066_1d1a_11eb_a808_0242ac110002row0_col5\" class=\"data row0 col5\" >0</td>\n",
       "                        <td id=\"T_0195c066_1d1a_11eb_a808_0242ac110002row0_col6\" class=\"data row0 col6\" >0</td>\n",
       "                        <td id=\"T_0195c066_1d1a_11eb_a808_0242ac110002row0_col7\" class=\"data row0 col7\" >0</td>\n",
       "                        <td id=\"T_0195c066_1d1a_11eb_a808_0242ac110002row0_col8\" class=\"data row0 col8\" >0</td>\n",
       "                        <td id=\"T_0195c066_1d1a_11eb_a808_0242ac110002row0_col9\" class=\"data row0 col9\" >0</td>\n",
       "                        <td id=\"T_0195c066_1d1a_11eb_a808_0242ac110002row0_col10\" class=\"data row0 col10\" >0</td>\n",
       "                        <td id=\"T_0195c066_1d1a_11eb_a808_0242ac110002row0_col11\" class=\"data row0 col11\" >0</td>\n",
       "                        <td id=\"T_0195c066_1d1a_11eb_a808_0242ac110002row0_col12\" class=\"data row0 col12\" >0</td>\n",
       "                        <td id=\"T_0195c066_1d1a_11eb_a808_0242ac110002row0_col13\" class=\"data row0 col13\" >0</td>\n",
       "                        <td id=\"T_0195c066_1d1a_11eb_a808_0242ac110002row0_col14\" class=\"data row0 col14\" >0</td>\n",
       "                        <td id=\"T_0195c066_1d1a_11eb_a808_0242ac110002row0_col15\" class=\"data row0 col15\" >0</td>\n",
       "                        <td id=\"T_0195c066_1d1a_11eb_a808_0242ac110002row0_col16\" class=\"data row0 col16\" >0</td>\n",
       "                        <td id=\"T_0195c066_1d1a_11eb_a808_0242ac110002row0_col17\" class=\"data row0 col17\" >0</td>\n",
       "            </tr>\n",
       "            <tr>\n",
       "                        <th id=\"T_0195c066_1d1a_11eb_a808_0242ac110002level0_row1\" class=\"row_heading level0 row1\" >1</th>\n",
       "                        <td id=\"T_0195c066_1d1a_11eb_a808_0242ac110002row1_col0\" class=\"data row1 col0\" >0</td>\n",
       "                        <td id=\"T_0195c066_1d1a_11eb_a808_0242ac110002row1_col1\" class=\"data row1 col1\" >0</td>\n",
       "                        <td id=\"T_0195c066_1d1a_11eb_a808_0242ac110002row1_col2\" class=\"data row1 col2\" >0</td>\n",
       "                        <td id=\"T_0195c066_1d1a_11eb_a808_0242ac110002row1_col3\" class=\"data row1 col3\" >0</td>\n",
       "                        <td id=\"T_0195c066_1d1a_11eb_a808_0242ac110002row1_col4\" class=\"data row1 col4\" >0</td>\n",
       "                        <td id=\"T_0195c066_1d1a_11eb_a808_0242ac110002row1_col5\" class=\"data row1 col5\" >29</td>\n",
       "                        <td id=\"T_0195c066_1d1a_11eb_a808_0242ac110002row1_col6\" class=\"data row1 col6\" >150</td>\n",
       "                        <td id=\"T_0195c066_1d1a_11eb_a808_0242ac110002row1_col7\" class=\"data row1 col7\" >195</td>\n",
       "                        <td id=\"T_0195c066_1d1a_11eb_a808_0242ac110002row1_col8\" class=\"data row1 col8\" >254</td>\n",
       "                        <td id=\"T_0195c066_1d1a_11eb_a808_0242ac110002row1_col9\" class=\"data row1 col9\" >255</td>\n",
       "                        <td id=\"T_0195c066_1d1a_11eb_a808_0242ac110002row1_col10\" class=\"data row1 col10\" >254</td>\n",
       "                        <td id=\"T_0195c066_1d1a_11eb_a808_0242ac110002row1_col11\" class=\"data row1 col11\" >176</td>\n",
       "                        <td id=\"T_0195c066_1d1a_11eb_a808_0242ac110002row1_col12\" class=\"data row1 col12\" >193</td>\n",
       "                        <td id=\"T_0195c066_1d1a_11eb_a808_0242ac110002row1_col13\" class=\"data row1 col13\" >150</td>\n",
       "                        <td id=\"T_0195c066_1d1a_11eb_a808_0242ac110002row1_col14\" class=\"data row1 col14\" >96</td>\n",
       "                        <td id=\"T_0195c066_1d1a_11eb_a808_0242ac110002row1_col15\" class=\"data row1 col15\" >0</td>\n",
       "                        <td id=\"T_0195c066_1d1a_11eb_a808_0242ac110002row1_col16\" class=\"data row1 col16\" >0</td>\n",
       "                        <td id=\"T_0195c066_1d1a_11eb_a808_0242ac110002row1_col17\" class=\"data row1 col17\" >0</td>\n",
       "            </tr>\n",
       "            <tr>\n",
       "                        <th id=\"T_0195c066_1d1a_11eb_a808_0242ac110002level0_row2\" class=\"row_heading level0 row2\" >2</th>\n",
       "                        <td id=\"T_0195c066_1d1a_11eb_a808_0242ac110002row2_col0\" class=\"data row2 col0\" >0</td>\n",
       "                        <td id=\"T_0195c066_1d1a_11eb_a808_0242ac110002row2_col1\" class=\"data row2 col1\" >0</td>\n",
       "                        <td id=\"T_0195c066_1d1a_11eb_a808_0242ac110002row2_col2\" class=\"data row2 col2\" >0</td>\n",
       "                        <td id=\"T_0195c066_1d1a_11eb_a808_0242ac110002row2_col3\" class=\"data row2 col3\" >48</td>\n",
       "                        <td id=\"T_0195c066_1d1a_11eb_a808_0242ac110002row2_col4\" class=\"data row2 col4\" >166</td>\n",
       "                        <td id=\"T_0195c066_1d1a_11eb_a808_0242ac110002row2_col5\" class=\"data row2 col5\" >224</td>\n",
       "                        <td id=\"T_0195c066_1d1a_11eb_a808_0242ac110002row2_col6\" class=\"data row2 col6\" >253</td>\n",
       "                        <td id=\"T_0195c066_1d1a_11eb_a808_0242ac110002row2_col7\" class=\"data row2 col7\" >253</td>\n",
       "                        <td id=\"T_0195c066_1d1a_11eb_a808_0242ac110002row2_col8\" class=\"data row2 col8\" >234</td>\n",
       "                        <td id=\"T_0195c066_1d1a_11eb_a808_0242ac110002row2_col9\" class=\"data row2 col9\" >196</td>\n",
       "                        <td id=\"T_0195c066_1d1a_11eb_a808_0242ac110002row2_col10\" class=\"data row2 col10\" >253</td>\n",
       "                        <td id=\"T_0195c066_1d1a_11eb_a808_0242ac110002row2_col11\" class=\"data row2 col11\" >253</td>\n",
       "                        <td id=\"T_0195c066_1d1a_11eb_a808_0242ac110002row2_col12\" class=\"data row2 col12\" >253</td>\n",
       "                        <td id=\"T_0195c066_1d1a_11eb_a808_0242ac110002row2_col13\" class=\"data row2 col13\" >253</td>\n",
       "                        <td id=\"T_0195c066_1d1a_11eb_a808_0242ac110002row2_col14\" class=\"data row2 col14\" >233</td>\n",
       "                        <td id=\"T_0195c066_1d1a_11eb_a808_0242ac110002row2_col15\" class=\"data row2 col15\" >0</td>\n",
       "                        <td id=\"T_0195c066_1d1a_11eb_a808_0242ac110002row2_col16\" class=\"data row2 col16\" >0</td>\n",
       "                        <td id=\"T_0195c066_1d1a_11eb_a808_0242ac110002row2_col17\" class=\"data row2 col17\" >0</td>\n",
       "            </tr>\n",
       "            <tr>\n",
       "                        <th id=\"T_0195c066_1d1a_11eb_a808_0242ac110002level0_row3\" class=\"row_heading level0 row3\" >3</th>\n",
       "                        <td id=\"T_0195c066_1d1a_11eb_a808_0242ac110002row3_col0\" class=\"data row3 col0\" >0</td>\n",
       "                        <td id=\"T_0195c066_1d1a_11eb_a808_0242ac110002row3_col1\" class=\"data row3 col1\" >93</td>\n",
       "                        <td id=\"T_0195c066_1d1a_11eb_a808_0242ac110002row3_col2\" class=\"data row3 col2\" >244</td>\n",
       "                        <td id=\"T_0195c066_1d1a_11eb_a808_0242ac110002row3_col3\" class=\"data row3 col3\" >249</td>\n",
       "                        <td id=\"T_0195c066_1d1a_11eb_a808_0242ac110002row3_col4\" class=\"data row3 col4\" >253</td>\n",
       "                        <td id=\"T_0195c066_1d1a_11eb_a808_0242ac110002row3_col5\" class=\"data row3 col5\" >187</td>\n",
       "                        <td id=\"T_0195c066_1d1a_11eb_a808_0242ac110002row3_col6\" class=\"data row3 col6\" >46</td>\n",
       "                        <td id=\"T_0195c066_1d1a_11eb_a808_0242ac110002row3_col7\" class=\"data row3 col7\" >10</td>\n",
       "                        <td id=\"T_0195c066_1d1a_11eb_a808_0242ac110002row3_col8\" class=\"data row3 col8\" >8</td>\n",
       "                        <td id=\"T_0195c066_1d1a_11eb_a808_0242ac110002row3_col9\" class=\"data row3 col9\" >4</td>\n",
       "                        <td id=\"T_0195c066_1d1a_11eb_a808_0242ac110002row3_col10\" class=\"data row3 col10\" >10</td>\n",
       "                        <td id=\"T_0195c066_1d1a_11eb_a808_0242ac110002row3_col11\" class=\"data row3 col11\" >194</td>\n",
       "                        <td id=\"T_0195c066_1d1a_11eb_a808_0242ac110002row3_col12\" class=\"data row3 col12\" >253</td>\n",
       "                        <td id=\"T_0195c066_1d1a_11eb_a808_0242ac110002row3_col13\" class=\"data row3 col13\" >253</td>\n",
       "                        <td id=\"T_0195c066_1d1a_11eb_a808_0242ac110002row3_col14\" class=\"data row3 col14\" >233</td>\n",
       "                        <td id=\"T_0195c066_1d1a_11eb_a808_0242ac110002row3_col15\" class=\"data row3 col15\" >0</td>\n",
       "                        <td id=\"T_0195c066_1d1a_11eb_a808_0242ac110002row3_col16\" class=\"data row3 col16\" >0</td>\n",
       "                        <td id=\"T_0195c066_1d1a_11eb_a808_0242ac110002row3_col17\" class=\"data row3 col17\" >0</td>\n",
       "            </tr>\n",
       "            <tr>\n",
       "                        <th id=\"T_0195c066_1d1a_11eb_a808_0242ac110002level0_row4\" class=\"row_heading level0 row4\" >4</th>\n",
       "                        <td id=\"T_0195c066_1d1a_11eb_a808_0242ac110002row4_col0\" class=\"data row4 col0\" >0</td>\n",
       "                        <td id=\"T_0195c066_1d1a_11eb_a808_0242ac110002row4_col1\" class=\"data row4 col1\" >107</td>\n",
       "                        <td id=\"T_0195c066_1d1a_11eb_a808_0242ac110002row4_col2\" class=\"data row4 col2\" >253</td>\n",
       "                        <td id=\"T_0195c066_1d1a_11eb_a808_0242ac110002row4_col3\" class=\"data row4 col3\" >253</td>\n",
       "                        <td id=\"T_0195c066_1d1a_11eb_a808_0242ac110002row4_col4\" class=\"data row4 col4\" >230</td>\n",
       "                        <td id=\"T_0195c066_1d1a_11eb_a808_0242ac110002row4_col5\" class=\"data row4 col5\" >48</td>\n",
       "                        <td id=\"T_0195c066_1d1a_11eb_a808_0242ac110002row4_col6\" class=\"data row4 col6\" >0</td>\n",
       "                        <td id=\"T_0195c066_1d1a_11eb_a808_0242ac110002row4_col7\" class=\"data row4 col7\" >0</td>\n",
       "                        <td id=\"T_0195c066_1d1a_11eb_a808_0242ac110002row4_col8\" class=\"data row4 col8\" >0</td>\n",
       "                        <td id=\"T_0195c066_1d1a_11eb_a808_0242ac110002row4_col9\" class=\"data row4 col9\" >0</td>\n",
       "                        <td id=\"T_0195c066_1d1a_11eb_a808_0242ac110002row4_col10\" class=\"data row4 col10\" >0</td>\n",
       "                        <td id=\"T_0195c066_1d1a_11eb_a808_0242ac110002row4_col11\" class=\"data row4 col11\" >192</td>\n",
       "                        <td id=\"T_0195c066_1d1a_11eb_a808_0242ac110002row4_col12\" class=\"data row4 col12\" >253</td>\n",
       "                        <td id=\"T_0195c066_1d1a_11eb_a808_0242ac110002row4_col13\" class=\"data row4 col13\" >253</td>\n",
       "                        <td id=\"T_0195c066_1d1a_11eb_a808_0242ac110002row4_col14\" class=\"data row4 col14\" >156</td>\n",
       "                        <td id=\"T_0195c066_1d1a_11eb_a808_0242ac110002row4_col15\" class=\"data row4 col15\" >0</td>\n",
       "                        <td id=\"T_0195c066_1d1a_11eb_a808_0242ac110002row4_col16\" class=\"data row4 col16\" >0</td>\n",
       "                        <td id=\"T_0195c066_1d1a_11eb_a808_0242ac110002row4_col17\" class=\"data row4 col17\" >0</td>\n",
       "            </tr>\n",
       "            <tr>\n",
       "                        <th id=\"T_0195c066_1d1a_11eb_a808_0242ac110002level0_row5\" class=\"row_heading level0 row5\" >5</th>\n",
       "                        <td id=\"T_0195c066_1d1a_11eb_a808_0242ac110002row5_col0\" class=\"data row5 col0\" >0</td>\n",
       "                        <td id=\"T_0195c066_1d1a_11eb_a808_0242ac110002row5_col1\" class=\"data row5 col1\" >3</td>\n",
       "                        <td id=\"T_0195c066_1d1a_11eb_a808_0242ac110002row5_col2\" class=\"data row5 col2\" >20</td>\n",
       "                        <td id=\"T_0195c066_1d1a_11eb_a808_0242ac110002row5_col3\" class=\"data row5 col3\" >20</td>\n",
       "                        <td id=\"T_0195c066_1d1a_11eb_a808_0242ac110002row5_col4\" class=\"data row5 col4\" >15</td>\n",
       "                        <td id=\"T_0195c066_1d1a_11eb_a808_0242ac110002row5_col5\" class=\"data row5 col5\" >0</td>\n",
       "                        <td id=\"T_0195c066_1d1a_11eb_a808_0242ac110002row5_col6\" class=\"data row5 col6\" >0</td>\n",
       "                        <td id=\"T_0195c066_1d1a_11eb_a808_0242ac110002row5_col7\" class=\"data row5 col7\" >0</td>\n",
       "                        <td id=\"T_0195c066_1d1a_11eb_a808_0242ac110002row5_col8\" class=\"data row5 col8\" >0</td>\n",
       "                        <td id=\"T_0195c066_1d1a_11eb_a808_0242ac110002row5_col9\" class=\"data row5 col9\" >0</td>\n",
       "                        <td id=\"T_0195c066_1d1a_11eb_a808_0242ac110002row5_col10\" class=\"data row5 col10\" >43</td>\n",
       "                        <td id=\"T_0195c066_1d1a_11eb_a808_0242ac110002row5_col11\" class=\"data row5 col11\" >224</td>\n",
       "                        <td id=\"T_0195c066_1d1a_11eb_a808_0242ac110002row5_col12\" class=\"data row5 col12\" >253</td>\n",
       "                        <td id=\"T_0195c066_1d1a_11eb_a808_0242ac110002row5_col13\" class=\"data row5 col13\" >245</td>\n",
       "                        <td id=\"T_0195c066_1d1a_11eb_a808_0242ac110002row5_col14\" class=\"data row5 col14\" >74</td>\n",
       "                        <td id=\"T_0195c066_1d1a_11eb_a808_0242ac110002row5_col15\" class=\"data row5 col15\" >0</td>\n",
       "                        <td id=\"T_0195c066_1d1a_11eb_a808_0242ac110002row5_col16\" class=\"data row5 col16\" >0</td>\n",
       "                        <td id=\"T_0195c066_1d1a_11eb_a808_0242ac110002row5_col17\" class=\"data row5 col17\" >0</td>\n",
       "            </tr>\n",
       "            <tr>\n",
       "                        <th id=\"T_0195c066_1d1a_11eb_a808_0242ac110002level0_row6\" class=\"row_heading level0 row6\" >6</th>\n",
       "                        <td id=\"T_0195c066_1d1a_11eb_a808_0242ac110002row6_col0\" class=\"data row6 col0\" >0</td>\n",
       "                        <td id=\"T_0195c066_1d1a_11eb_a808_0242ac110002row6_col1\" class=\"data row6 col1\" >0</td>\n",
       "                        <td id=\"T_0195c066_1d1a_11eb_a808_0242ac110002row6_col2\" class=\"data row6 col2\" >0</td>\n",
       "                        <td id=\"T_0195c066_1d1a_11eb_a808_0242ac110002row6_col3\" class=\"data row6 col3\" >0</td>\n",
       "                        <td id=\"T_0195c066_1d1a_11eb_a808_0242ac110002row6_col4\" class=\"data row6 col4\" >0</td>\n",
       "                        <td id=\"T_0195c066_1d1a_11eb_a808_0242ac110002row6_col5\" class=\"data row6 col5\" >0</td>\n",
       "                        <td id=\"T_0195c066_1d1a_11eb_a808_0242ac110002row6_col6\" class=\"data row6 col6\" >0</td>\n",
       "                        <td id=\"T_0195c066_1d1a_11eb_a808_0242ac110002row6_col7\" class=\"data row6 col7\" >0</td>\n",
       "                        <td id=\"T_0195c066_1d1a_11eb_a808_0242ac110002row6_col8\" class=\"data row6 col8\" >0</td>\n",
       "                        <td id=\"T_0195c066_1d1a_11eb_a808_0242ac110002row6_col9\" class=\"data row6 col9\" >0</td>\n",
       "                        <td id=\"T_0195c066_1d1a_11eb_a808_0242ac110002row6_col10\" class=\"data row6 col10\" >249</td>\n",
       "                        <td id=\"T_0195c066_1d1a_11eb_a808_0242ac110002row6_col11\" class=\"data row6 col11\" >253</td>\n",
       "                        <td id=\"T_0195c066_1d1a_11eb_a808_0242ac110002row6_col12\" class=\"data row6 col12\" >245</td>\n",
       "                        <td id=\"T_0195c066_1d1a_11eb_a808_0242ac110002row6_col13\" class=\"data row6 col13\" >126</td>\n",
       "                        <td id=\"T_0195c066_1d1a_11eb_a808_0242ac110002row6_col14\" class=\"data row6 col14\" >0</td>\n",
       "                        <td id=\"T_0195c066_1d1a_11eb_a808_0242ac110002row6_col15\" class=\"data row6 col15\" >0</td>\n",
       "                        <td id=\"T_0195c066_1d1a_11eb_a808_0242ac110002row6_col16\" class=\"data row6 col16\" >0</td>\n",
       "                        <td id=\"T_0195c066_1d1a_11eb_a808_0242ac110002row6_col17\" class=\"data row6 col17\" >0</td>\n",
       "            </tr>\n",
       "            <tr>\n",
       "                        <th id=\"T_0195c066_1d1a_11eb_a808_0242ac110002level0_row7\" class=\"row_heading level0 row7\" >7</th>\n",
       "                        <td id=\"T_0195c066_1d1a_11eb_a808_0242ac110002row7_col0\" class=\"data row7 col0\" >0</td>\n",
       "                        <td id=\"T_0195c066_1d1a_11eb_a808_0242ac110002row7_col1\" class=\"data row7 col1\" >0</td>\n",
       "                        <td id=\"T_0195c066_1d1a_11eb_a808_0242ac110002row7_col2\" class=\"data row7 col2\" >0</td>\n",
       "                        <td id=\"T_0195c066_1d1a_11eb_a808_0242ac110002row7_col3\" class=\"data row7 col3\" >0</td>\n",
       "                        <td id=\"T_0195c066_1d1a_11eb_a808_0242ac110002row7_col4\" class=\"data row7 col4\" >0</td>\n",
       "                        <td id=\"T_0195c066_1d1a_11eb_a808_0242ac110002row7_col5\" class=\"data row7 col5\" >0</td>\n",
       "                        <td id=\"T_0195c066_1d1a_11eb_a808_0242ac110002row7_col6\" class=\"data row7 col6\" >0</td>\n",
       "                        <td id=\"T_0195c066_1d1a_11eb_a808_0242ac110002row7_col7\" class=\"data row7 col7\" >14</td>\n",
       "                        <td id=\"T_0195c066_1d1a_11eb_a808_0242ac110002row7_col8\" class=\"data row7 col8\" >101</td>\n",
       "                        <td id=\"T_0195c066_1d1a_11eb_a808_0242ac110002row7_col9\" class=\"data row7 col9\" >223</td>\n",
       "                        <td id=\"T_0195c066_1d1a_11eb_a808_0242ac110002row7_col10\" class=\"data row7 col10\" >253</td>\n",
       "                        <td id=\"T_0195c066_1d1a_11eb_a808_0242ac110002row7_col11\" class=\"data row7 col11\" >248</td>\n",
       "                        <td id=\"T_0195c066_1d1a_11eb_a808_0242ac110002row7_col12\" class=\"data row7 col12\" >124</td>\n",
       "                        <td id=\"T_0195c066_1d1a_11eb_a808_0242ac110002row7_col13\" class=\"data row7 col13\" >0</td>\n",
       "                        <td id=\"T_0195c066_1d1a_11eb_a808_0242ac110002row7_col14\" class=\"data row7 col14\" >0</td>\n",
       "                        <td id=\"T_0195c066_1d1a_11eb_a808_0242ac110002row7_col15\" class=\"data row7 col15\" >0</td>\n",
       "                        <td id=\"T_0195c066_1d1a_11eb_a808_0242ac110002row7_col16\" class=\"data row7 col16\" >0</td>\n",
       "                        <td id=\"T_0195c066_1d1a_11eb_a808_0242ac110002row7_col17\" class=\"data row7 col17\" >0</td>\n",
       "            </tr>\n",
       "            <tr>\n",
       "                        <th id=\"T_0195c066_1d1a_11eb_a808_0242ac110002level0_row8\" class=\"row_heading level0 row8\" >8</th>\n",
       "                        <td id=\"T_0195c066_1d1a_11eb_a808_0242ac110002row8_col0\" class=\"data row8 col0\" >0</td>\n",
       "                        <td id=\"T_0195c066_1d1a_11eb_a808_0242ac110002row8_col1\" class=\"data row8 col1\" >0</td>\n",
       "                        <td id=\"T_0195c066_1d1a_11eb_a808_0242ac110002row8_col2\" class=\"data row8 col2\" >0</td>\n",
       "                        <td id=\"T_0195c066_1d1a_11eb_a808_0242ac110002row8_col3\" class=\"data row8 col3\" >0</td>\n",
       "                        <td id=\"T_0195c066_1d1a_11eb_a808_0242ac110002row8_col4\" class=\"data row8 col4\" >0</td>\n",
       "                        <td id=\"T_0195c066_1d1a_11eb_a808_0242ac110002row8_col5\" class=\"data row8 col5\" >11</td>\n",
       "                        <td id=\"T_0195c066_1d1a_11eb_a808_0242ac110002row8_col6\" class=\"data row8 col6\" >166</td>\n",
       "                        <td id=\"T_0195c066_1d1a_11eb_a808_0242ac110002row8_col7\" class=\"data row8 col7\" >239</td>\n",
       "                        <td id=\"T_0195c066_1d1a_11eb_a808_0242ac110002row8_col8\" class=\"data row8 col8\" >253</td>\n",
       "                        <td id=\"T_0195c066_1d1a_11eb_a808_0242ac110002row8_col9\" class=\"data row8 col9\" >253</td>\n",
       "                        <td id=\"T_0195c066_1d1a_11eb_a808_0242ac110002row8_col10\" class=\"data row8 col10\" >253</td>\n",
       "                        <td id=\"T_0195c066_1d1a_11eb_a808_0242ac110002row8_col11\" class=\"data row8 col11\" >187</td>\n",
       "                        <td id=\"T_0195c066_1d1a_11eb_a808_0242ac110002row8_col12\" class=\"data row8 col12\" >30</td>\n",
       "                        <td id=\"T_0195c066_1d1a_11eb_a808_0242ac110002row8_col13\" class=\"data row8 col13\" >0</td>\n",
       "                        <td id=\"T_0195c066_1d1a_11eb_a808_0242ac110002row8_col14\" class=\"data row8 col14\" >0</td>\n",
       "                        <td id=\"T_0195c066_1d1a_11eb_a808_0242ac110002row8_col15\" class=\"data row8 col15\" >0</td>\n",
       "                        <td id=\"T_0195c066_1d1a_11eb_a808_0242ac110002row8_col16\" class=\"data row8 col16\" >0</td>\n",
       "                        <td id=\"T_0195c066_1d1a_11eb_a808_0242ac110002row8_col17\" class=\"data row8 col17\" >0</td>\n",
       "            </tr>\n",
       "            <tr>\n",
       "                        <th id=\"T_0195c066_1d1a_11eb_a808_0242ac110002level0_row9\" class=\"row_heading level0 row9\" >9</th>\n",
       "                        <td id=\"T_0195c066_1d1a_11eb_a808_0242ac110002row9_col0\" class=\"data row9 col0\" >0</td>\n",
       "                        <td id=\"T_0195c066_1d1a_11eb_a808_0242ac110002row9_col1\" class=\"data row9 col1\" >0</td>\n",
       "                        <td id=\"T_0195c066_1d1a_11eb_a808_0242ac110002row9_col2\" class=\"data row9 col2\" >0</td>\n",
       "                        <td id=\"T_0195c066_1d1a_11eb_a808_0242ac110002row9_col3\" class=\"data row9 col3\" >0</td>\n",
       "                        <td id=\"T_0195c066_1d1a_11eb_a808_0242ac110002row9_col4\" class=\"data row9 col4\" >0</td>\n",
       "                        <td id=\"T_0195c066_1d1a_11eb_a808_0242ac110002row9_col5\" class=\"data row9 col5\" >16</td>\n",
       "                        <td id=\"T_0195c066_1d1a_11eb_a808_0242ac110002row9_col6\" class=\"data row9 col6\" >248</td>\n",
       "                        <td id=\"T_0195c066_1d1a_11eb_a808_0242ac110002row9_col7\" class=\"data row9 col7\" >250</td>\n",
       "                        <td id=\"T_0195c066_1d1a_11eb_a808_0242ac110002row9_col8\" class=\"data row9 col8\" >253</td>\n",
       "                        <td id=\"T_0195c066_1d1a_11eb_a808_0242ac110002row9_col9\" class=\"data row9 col9\" >253</td>\n",
       "                        <td id=\"T_0195c066_1d1a_11eb_a808_0242ac110002row9_col10\" class=\"data row9 col10\" >253</td>\n",
       "                        <td id=\"T_0195c066_1d1a_11eb_a808_0242ac110002row9_col11\" class=\"data row9 col11\" >253</td>\n",
       "                        <td id=\"T_0195c066_1d1a_11eb_a808_0242ac110002row9_col12\" class=\"data row9 col12\" >232</td>\n",
       "                        <td id=\"T_0195c066_1d1a_11eb_a808_0242ac110002row9_col13\" class=\"data row9 col13\" >213</td>\n",
       "                        <td id=\"T_0195c066_1d1a_11eb_a808_0242ac110002row9_col14\" class=\"data row9 col14\" >111</td>\n",
       "                        <td id=\"T_0195c066_1d1a_11eb_a808_0242ac110002row9_col15\" class=\"data row9 col15\" >2</td>\n",
       "                        <td id=\"T_0195c066_1d1a_11eb_a808_0242ac110002row9_col16\" class=\"data row9 col16\" >0</td>\n",
       "                        <td id=\"T_0195c066_1d1a_11eb_a808_0242ac110002row9_col17\" class=\"data row9 col17\" >0</td>\n",
       "            </tr>\n",
       "            <tr>\n",
       "                        <th id=\"T_0195c066_1d1a_11eb_a808_0242ac110002level0_row10\" class=\"row_heading level0 row10\" >10</th>\n",
       "                        <td id=\"T_0195c066_1d1a_11eb_a808_0242ac110002row10_col0\" class=\"data row10 col0\" >0</td>\n",
       "                        <td id=\"T_0195c066_1d1a_11eb_a808_0242ac110002row10_col1\" class=\"data row10 col1\" >0</td>\n",
       "                        <td id=\"T_0195c066_1d1a_11eb_a808_0242ac110002row10_col2\" class=\"data row10 col2\" >0</td>\n",
       "                        <td id=\"T_0195c066_1d1a_11eb_a808_0242ac110002row10_col3\" class=\"data row10 col3\" >0</td>\n",
       "                        <td id=\"T_0195c066_1d1a_11eb_a808_0242ac110002row10_col4\" class=\"data row10 col4\" >0</td>\n",
       "                        <td id=\"T_0195c066_1d1a_11eb_a808_0242ac110002row10_col5\" class=\"data row10 col5\" >0</td>\n",
       "                        <td id=\"T_0195c066_1d1a_11eb_a808_0242ac110002row10_col6\" class=\"data row10 col6\" >0</td>\n",
       "                        <td id=\"T_0195c066_1d1a_11eb_a808_0242ac110002row10_col7\" class=\"data row10 col7\" >43</td>\n",
       "                        <td id=\"T_0195c066_1d1a_11eb_a808_0242ac110002row10_col8\" class=\"data row10 col8\" >98</td>\n",
       "                        <td id=\"T_0195c066_1d1a_11eb_a808_0242ac110002row10_col9\" class=\"data row10 col9\" >98</td>\n",
       "                        <td id=\"T_0195c066_1d1a_11eb_a808_0242ac110002row10_col10\" class=\"data row10 col10\" >208</td>\n",
       "                        <td id=\"T_0195c066_1d1a_11eb_a808_0242ac110002row10_col11\" class=\"data row10 col11\" >253</td>\n",
       "                        <td id=\"T_0195c066_1d1a_11eb_a808_0242ac110002row10_col12\" class=\"data row10 col12\" >253</td>\n",
       "                        <td id=\"T_0195c066_1d1a_11eb_a808_0242ac110002row10_col13\" class=\"data row10 col13\" >253</td>\n",
       "                        <td id=\"T_0195c066_1d1a_11eb_a808_0242ac110002row10_col14\" class=\"data row10 col14\" >253</td>\n",
       "                        <td id=\"T_0195c066_1d1a_11eb_a808_0242ac110002row10_col15\" class=\"data row10 col15\" >187</td>\n",
       "                        <td id=\"T_0195c066_1d1a_11eb_a808_0242ac110002row10_col16\" class=\"data row10 col16\" >22</td>\n",
       "                        <td id=\"T_0195c066_1d1a_11eb_a808_0242ac110002row10_col17\" class=\"data row10 col17\" >0</td>\n",
       "            </tr>\n",
       "    </tbody></table>"
      ],
      "text/plain": [
       "<pandas.io.formats.style.Styler at 0x7f4aa69847c0>"
      ]
     },
     "execution_count": 14,
     "metadata": {},
     "output_type": "execute_result"
    }
   ],
   "source": [
    "im3_t = tensor(im3)\n",
    "df = pd.DataFrame(im3_t[4:15, 4:22])\n",
    "df.style.set_properties().background_gradient('Greys')"
   ]
  },
  {
   "cell_type": "markdown",
   "metadata": {},
   "source": [
    "## Simple model 1: Pixel similiarity"
   ]
  },
  {
   "cell_type": "code",
   "execution_count": 15,
   "metadata": {},
   "outputs": [],
   "source": [
    "three_tensors = [tensor(Image.open(path)) for path in threes]\n",
    "seven_tensors = [tensor(Image.open(path)) for path in sevens]"
   ]
  },
  {
   "cell_type": "code",
   "execution_count": 16,
   "metadata": {},
   "outputs": [
    {
     "data": {
      "text/plain": [
       "(6131, 6265)"
      ]
     },
     "execution_count": 16,
     "metadata": {},
     "output_type": "execute_result"
    }
   ],
   "source": [
    "len(three_tensors), len(seven_tensors)"
   ]
  },
  {
   "cell_type": "code",
   "execution_count": 35,
   "metadata": {},
   "outputs": [
    {
     "data": {
      "image/png": "[encoded data removed]",
      "text/plain": [
       "<Figure size 72x72 with 1 Axes>"
      ]
     },
     "metadata": {
      "needs_background": "light"
     },
     "output_type": "display_data"
    }
   ],
   "source": [
    "show_image(seven_tensors[1], cmap='gray_r');"
   ]
  },
  {
   "cell_type": "markdown",
   "metadata": {},
   "source": [
    "Computing the mean value for each pixel:"
   ]
  },
  {
   "cell_type": "code",
   "execution_count": 36,
   "metadata": {},
   "outputs": [
    {
     "data": {
      "text/plain": [
       "torch.Size([6131, 28, 28])"
      ]
     },
     "execution_count": 36,
     "metadata": {},
     "output_type": "execute_result"
    }
   ],
   "source": [
    "stacked_sevens = torch.stack(seven_tensors).float()/255\n",
    "stacked_threes = torch.stack(three_tensors).float()/255\n",
    "stacked_threes.shape"
   ]
  },
  {
   "cell_type": "code",
   "execution_count": 37,
   "metadata": {},
   "outputs": [
    {
     "data": {
      "image/png": "[encoded data removed]",
      "text/plain": [
       "<Figure size 72x72 with 1 Axes>"
      ]
     },
     "metadata": {
      "needs_background": "light"
     },
     "output_type": "display_data"
    }
   ],
   "source": [
    "mean3 = stacked_threes.mean(0)\n",
    "show_image(mean3, cmap='gray_r');"
   ]
  },
  {
   "cell_type": "code",
   "execution_count": 38,
   "metadata": {},
   "outputs": [
    {
     "data": {
      "image/png": "[encoded data removed]",
      "text/plain": [
       "<Figure size 72x72 with 1 Axes>"
      ]
     },
     "metadata": {
      "needs_background": "light"
     },
     "output_type": "display_data"
    }
   ],
   "source": [
    "mean7 = stacked_sevens.mean(0)\n",
    "show_image(mean7, cmap='gray_r');"
   ]
  },
  {
   "cell_type": "markdown",
   "metadata": {},
   "source": [
    "#### Distance to ideal number"
   ]
  },
  {
   "cell_type": "code",
   "execution_count": 42,
   "metadata": {},
   "outputs": [
    {
     "data": {
      "image/png": "[encoded data removed]",
      "text/plain": [
       "<Figure size 72x72 with 1 Axes>"
      ]
     },
     "metadata": {
      "needs_background": "light"
     },
     "output_type": "display_data"
    }
   ],
   "source": [
    "sample_3 = three_tensors[4].float()/255\n",
    "show_image(sample_3, cmap='gray_r');"
   ]
  },
  {
   "cell_type": "code",
   "execution_count": 45,
   "metadata": {},
   "outputs": [
    {
     "data": {
      "text/plain": [
       "(tensor(0.0561), tensor(0.0977))"
      ]
     },
     "execution_count": 45,
     "metadata": {},
     "output_type": "execute_result"
    }
   ],
   "source": [
    "diff3 = ((mean3 - sample_3)**2).mean()\n",
    "diff7 = ((mean7 - sample_3)**2).mean()\n",
    "diff3, diff7"
   ]
  },
  {
   "cell_type": "markdown",
   "metadata": {},
   "source": [
    "These loss functions are bundled in pytorchs nn.functional module:\n",
    "- mse_loss\n",
    "- l1_loss"
   ]
  },
  {
   "cell_type": "code",
   "execution_count": 50,
   "metadata": {},
   "outputs": [
    {
     "data": {
      "text/plain": [
       "(tensor(0.0561), tensor(0.0977))"
      ]
     },
     "execution_count": 50,
     "metadata": {},
     "output_type": "execute_result"
    }
   ],
   "source": [
    "F.mse_loss(sample_3, mean3), F.mse_loss(sample_3, mean7)"
   ]
  },
  {
   "cell_type": "markdown",
   "metadata": {},
   "source": [
    "#### Validation loss"
   ]
  },
  {
   "cell_type": "code",
   "execution_count": 51,
   "metadata": {},
   "outputs": [],
   "source": [
    "valid_threes = (path/'valid/3').ls().sorted()\n",
    "valid_sevens = (path/'valid/7').ls().sorted()"
   ]
  },
  {
   "cell_type": "code",
   "execution_count": 52,
   "metadata": {},
   "outputs": [
    {
     "name": "stdout",
     "output_type": "stream",
     "text": [
      "CPU times: user 660 ms, sys: 108 ms, total: 768 ms\n",
      "Wall time: 3.87 s\n"
     ]
    }
   ],
   "source": [
    "%%time\n",
    "three_tensors = [tensor(Image.open(path)) for path in valid_threes]\n",
    "seven_tensors = [tensor(Image.open(path)) for path in valid_sevens]"
   ]
  },
  {
   "cell_type": "code",
   "execution_count": 53,
   "metadata": {},
   "outputs": [],
   "source": [
    "valid_stacked_sevens = torch.stack(seven_tensors).float()/255\n",
    "valid_stacked_threes = torch.stack(three_tensors).float()/255"
   ]
  },
  {
   "cell_type": "code",
   "execution_count": 54,
   "metadata": {},
   "outputs": [
    {
     "data": {
      "text/plain": [
       "torch.Size([1028, 28, 28])"
      ]
     },
     "execution_count": 54,
     "metadata": {},
     "output_type": "execute_result"
    }
   ],
   "source": [
    "valid_stacked_sevens.shape"
   ]
  },
  {
   "cell_type": "code",
   "execution_count": 61,
   "metadata": {},
   "outputs": [],
   "source": [
    "def diff_to(stack, mean):\n",
    "    return (stack - mean).abs().mean(dim=[1,2])"
   ]
  },
  {
   "cell_type": "code",
   "execution_count": 67,
   "metadata": {},
   "outputs": [
    {
     "name": "stdout",
     "output_type": "stream",
     "text": [
      "Correct sevens:  1013\n",
      "Correct threes:  926\n",
      "Total:  0.9514229636898921\n"
     ]
    }
   ],
   "source": [
    "correct_sevens = (diff_to(valid_stacked_sevens, mean3) > diff_to(valid_stacked_sevens, mean7)).sum().item()\n",
    "correct_threes = (diff_to(valid_stacked_threes, mean3) < diff_to(valid_stacked_threes, mean7)).sum().item()\n",
    "\n",
    "total_correct = correct_sevens + correct_threes\n",
    "total = len(valid_threes) + len(valid_sevens)\n",
    "\n",
    "print('Correct sevens: ', correct_sevens)\n",
    "print('Correct threes: ', correct_threes)\n",
    "print('Total: ', total_correct/total)"
   ]
  },
  {
   "cell_type": "markdown",
   "metadata": {},
   "source": [
    "# Stochastic Gradient Descent (SGD)"
   ]
  },
  {
   "cell_type": "code",
   "execution_count": null,
   "metadata": {},
   "outputs": [],
   "source": []
  }
 ],
 "metadata": {
  "kernelspec": {
   "display_name": "Python 3",
   "language": "python",
   "name": "python3"
  },
  "language_info": {
   "codemirror_mode": {
    "name": "ipython",
    "version": 3
   },
   "file_extension": ".py",
   "mimetype": "text/x-python",
   "name": "python",
   "nbconvert_exporter": "python",
   "pygments_lexer": "ipython3",
   "version": "3.8.5"
  }
 },
 "nbformat": 4,
 "nbformat_minor": 4
}
