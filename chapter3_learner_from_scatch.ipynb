{
 "cells": [
  {
   "cell_type": "code",
   "execution_count": 1,
   "metadata": {},
   "outputs": [],
   "source": [
    "from fastai.vision.all import *"
   ]
  },
  {
   "cell_type": "markdown",
   "metadata": {},
   "source": [
    "# Dataset preparations"
   ]
  },
  {
   "cell_type": "code",
   "execution_count": 2,
   "metadata": {},
   "outputs": [],
   "source": [
    "def setup_mnist():\n",
    "    save_path = Path('/storage/data/mnist_tensor') \n",
    "    \n",
    "    target_files = ['training_x.save', 'training_y.save', 'testing_x.save', 'testing_y.save']\n",
    "    loaded = []\n",
    "\n",
    "    all_valid = np.all([(save_path/target_file).is_file() for target_file in target_files])\n",
    "    if not all_valid:\n",
    "        print('Setup from scratch')\n",
    "        path = untar_data(URLs.MNIST)\n",
    "        \n",
    "        for mode in ['training', 'testing']:\n",
    "            print(mode)\n",
    "            x = []\n",
    "            y = []\n",
    "\n",
    "            for sub_folder in (path/mode).ls():\n",
    "                category = sub_folder.name\n",
    "                print(category)\n",
    "                for img in sub_folder.glob('*.png'):\n",
    "                    x.append(tensor(Image.open(img)))\n",
    "                    y.append(int(category))\n",
    "                    \n",
    "            x = torch.stack(x).view(-1, 28*28).float()/255.\n",
    "            y = tensor(y)\n",
    "            \n",
    "            torch.save(x, save_path/(mode+'_x.save'))\n",
    "            torch.save(y, save_path/(mode+'_y.save'))\n",
    "        \n",
    "    \n",
    "    return [torch.load(save_path/target_file) for target_file in target_files]    "
   ]
  },
  {
   "cell_type": "code",
   "execution_count": 3,
   "metadata": {},
   "outputs": [
    {
     "data": {
      "text/plain": [
       "torch.Size([60000, 784])"
      ]
     },
     "execution_count": 3,
     "metadata": {},
     "output_type": "execute_result"
    }
   ],
   "source": [
    "train_x, train_y, test_x, test_y = setup_mnist()\n",
    "train_x.shape"
   ]
  },
  {
   "cell_type": "markdown",
   "metadata": {},
   "source": [
    "# Dataloader"
   ]
  },
  {
   "cell_type": "code",
   "execution_count": 4,
   "metadata": {},
   "outputs": [],
   "source": [
    "def ds_from_tensors(x,y):\n",
    "    return list(zip(train_x, train_y))"
   ]
  },
  {
   "cell_type": "code",
   "execution_count": 5,
   "metadata": {},
   "outputs": [],
   "source": [
    "train_ds = ds_from_tensors(train_x, train_y)\n",
    "valid_ds = ds_from_tensors(test_x, test_y)\n",
    "\n",
    "dls = DataLoaders.from_dsets(train_ds, valid_ds)"
   ]
  },
  {
   "cell_type": "markdown",
   "metadata": {},
   "source": [
    "# Learner"
   ]
  },
  {
   "cell_type": "code",
   "execution_count": 16,
   "metadata": {},
   "outputs": [],
   "source": [
    "model = nn.Sequential(\n",
    "    nn.Linear(28*28, 100),\n",
    "    nn.ReLU(),\n",
    "    nn.Linear(100,30),\n",
    "    nn.ReLU(),\n",
    "    nn.Linear(30,10)\n",
    ")"
   ]
  },
  {
   "cell_type": "code",
   "execution_count": 17,
   "metadata": {},
   "outputs": [],
   "source": [
    "class Learner:\n",
    "    def __init__(self, model, dls, lr=1e-1):\n",
    "        self.model = model.to('cuda')\n",
    "        self.dls = dls.to('cuda')\n",
    "        self.opt = Adam(self.model.parameters(), lr=lr)\n",
    "        \n",
    "    def _calc_gradients(self, xb, yb):\n",
    "        preds = self.model(xb)\n",
    "        loss = F.cross_entropy(preds, yb)\n",
    "        loss.backward()\n",
    "        return loss.item()\n",
    "        \n",
    "    def fit(self, n_epochs):\n",
    "        for epoch in range(n_epochs):\n",
    "            batch_loss = 0.\n",
    "            # train\n",
    "            for xb, yb in self.dls.train:\n",
    "                self.opt.zero_grad()\n",
    "                batch_loss += self._calc_gradients(xb, yb)\n",
    "                self.opt.step()\n",
    "            \n",
    "            # validate\n",
    "            correct = 0\n",
    "            for xb, yb in self.dls.valid:\n",
    "                correct += (model(xb).argmax(dim=1)==yb).float().sum()\n",
    "            accuracy = (correct / len(self.dls.valid_ds)).item()\n",
    "            print(epoch, accuracy)"
   ]
  },
  {
   "cell_type": "code",
   "execution_count": 18,
   "metadata": {},
   "outputs": [
    {
     "name": "stdout",
     "output_type": "stream",
     "text": [
      "0 0.9512166976928711\n",
      "1 0.9657666683197021\n",
      "2 0.9750000238418579\n",
      "3 0.9765333533287048\n",
      "4 0.9757333397865295\n",
      "5 0.9753167033195496\n",
      "6 0.9814167022705078\n",
      "7 0.9800500273704529\n",
      "8 0.9827666878700256\n",
      "9 0.9819666743278503\n",
      "10 0.9799833297729492\n",
      "11 0.984000027179718\n",
      "12 0.9791833162307739\n",
      "13 0.9789666533470154\n",
      "14 0.9815333485603333\n",
      "15 0.982450008392334\n",
      "16 0.9861833453178406\n",
      "17 0.9816666841506958\n",
      "18 0.9869500398635864\n",
      "19 0.9838833212852478\n"
     ]
    }
   ],
   "source": [
    "l = Learner(model, dls, lr=1e-2)\n",
    "l.fit(20)"
   ]
  },
  {
   "cell_type": "code",
   "execution_count": null,
   "metadata": {},
   "outputs": [],
   "source": []
  }
 ],
 "metadata": {
  "kernelspec": {
   "display_name": "Python 3",
   "language": "python",
   "name": "python3"
  },
  "language_info": {
   "codemirror_mode": {
    "name": "ipython",
    "version": 3
   },
   "file_extension": ".py",
   "mimetype": "text/x-python",
   "name": "python",
   "nbconvert_exporter": "python",
   "pygments_lexer": "ipython3",
   "version": "3.8.5"
  }
 },
 "nbformat": 4,
 "nbformat_minor": 4
}
