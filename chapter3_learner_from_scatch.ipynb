{
 "cells": [
  {
   "cell_type": "code",
   "execution_count": 38,
   "metadata": {},
   "outputs": [],
   "source": [
    "from fastai.vision.all import *"
   ]
  },
  {
   "cell_type": "markdown",
   "metadata": {},
   "source": [
    "# Dataset preparations"
   ]
  },
  {
   "cell_type": "code",
   "execution_count": 39,
   "metadata": {},
   "outputs": [
    {
     "data": {
      "text/plain": [
       "(#2) [Path('/storage/data/mnist_png/training'),Path('/storage/data/mnist_png/testing')]"
      ]
     },
     "execution_count": 39,
     "metadata": {},
     "output_type": "execute_result"
    }
   ],
   "source": [
    "path = untar_data(URLs.MNIST)\n",
    "path.ls()"
   ]
  },
  {
   "cell_type": "code",
   "execution_count": 40,
   "metadata": {},
   "outputs": [
    {
     "data": {
      "text/plain": [
       "(#10) [Path('/storage/data/mnist_png/training/0'),Path('/storage/data/mnist_png/training/2'),Path('/storage/data/mnist_png/training/9'),Path('/storage/data/mnist_png/training/8'),Path('/storage/data/mnist_png/training/7'),Path('/storage/data/mnist_png/training/1'),Path('/storage/data/mnist_png/training/5'),Path('/storage/data/mnist_png/training/4'),Path('/storage/data/mnist_png/training/6'),Path('/storage/data/mnist_png/training/3')]"
      ]
     },
     "execution_count": 40,
     "metadata": {},
     "output_type": "execute_result"
    }
   ],
   "source": [
    "(path/'training').ls()"
   ]
  },
  {
   "cell_type": "code",
   "execution_count": 41,
   "metadata": {},
   "outputs": [
    {
     "data": {
      "text/plain": [
       "torch.Size([28, 28])"
      ]
     },
     "execution_count": 41,
     "metadata": {},
     "output_type": "execute_result"
    }
   ],
   "source": [
    "img = Image.open((path/'training/0').ls()[0])\n",
    "tensor(img).shape"
   ]
  },
  {
   "cell_type": "code",
   "execution_count": 43,
   "metadata": {},
   "outputs": [
    {
     "name": "stdout",
     "output_type": "stream",
     "text": [
      "0\n",
      "2\n",
      "9\n",
      "8\n",
      "7\n",
      "1\n",
      "5\n",
      "4\n",
      "6\n",
      "3\n"
     ]
    }
   ],
   "source": [
    "training_x = []\n",
    "training_y = []\n",
    "\n",
    "for sub_folder in (path/'training').ls():\n",
    "    category = sub_folder.name\n",
    "    print(category)\n",
    "    for img in sub_folder.glob('*.png'):\n",
    "        training_x.append(tensor(Image.open(img)))\n",
    "        training_y.append(int(category))"
   ]
  },
  {
   "cell_type": "code",
   "execution_count": 57,
   "metadata": {},
   "outputs": [
    {
     "data": {
      "text/plain": [
       "torch.Size([60000, 784])"
      ]
     },
     "execution_count": 57,
     "metadata": {},
     "output_type": "execute_result"
    }
   ],
   "source": [
    "training_tensor_x = torch.stack(training_x).view(-1, 28*28).float()/255.\n",
    "training_tensor_x.shape"
   ]
  },
  {
   "cell_type": "code",
   "execution_count": 58,
   "metadata": {},
   "outputs": [
    {
     "data": {
      "text/plain": [
       "torch.Size([60000])"
      ]
     },
     "execution_count": 58,
     "metadata": {},
     "output_type": "execute_result"
    }
   ],
   "source": [
    "training_tensor_y = tensor(training_y)\n",
    "training_tensor_y.shape"
   ]
  },
  {
   "cell_type": "code",
   "execution_count": 59,
   "metadata": {},
   "outputs": [
    {
     "data": {
      "text/plain": [
       "(#1) [Path('/storage/data/mnist_tensor/training_x.save')]"
      ]
     },
     "execution_count": 59,
     "metadata": {},
     "output_type": "execute_result"
    }
   ],
   "source": [
    "save_path = Path('/storage/data/mnist_tensor')\n",
    "save_path.ls()"
   ]
  },
  {
   "cell_type": "code",
   "execution_count": 60,
   "metadata": {},
   "outputs": [],
   "source": [
    "torch.save(training_tensor_x, save_path/'training_x.save')\n",
    "torch.save(training_tensor_y, save_path/'training_y.save')"
   ]
  },
  {
   "cell_type": "code",
   "execution_count": 71,
   "metadata": {},
   "outputs": [],
   "source": [
    "def setup_mnist():\n",
    "    save_path = Path('/storage/data/mnist_tensor') \n",
    "    \n",
    "    target_files = ['training_x.save', 'training_y.save', 'testing_x.save', 'testing_y.save']\n",
    "    loaded = []\n",
    "\n",
    "    all_valid = np.all([(save_path/target_file).is_file() for target_file in target_files])\n",
    "    if not all_valid:\n",
    "        print('Setup from scratch')\n",
    "        path = untar_data(URLs.MNIST)\n",
    "        \n",
    "        for mode in ['training', 'testing']:\n",
    "            print(mode)\n",
    "            x = []\n",
    "            y = []\n",
    "\n",
    "            for sub_folder in (path/mode).ls():\n",
    "                category = sub_folder.name\n",
    "                print(category)\n",
    "                for img in sub_folder.glob('*.png'):\n",
    "                    x.append(tensor(Image.open(img)))\n",
    "                    y.append(int(category))\n",
    "                    \n",
    "            x = torch.stack(x).view(-1, 28*28).float()/255.\n",
    "            y = tensor(y)\n",
    "            \n",
    "            torch.save(x, save_path/(mode+'_x.save'))\n",
    "            torch.save(y, save_path/(mode+'_y.save'))\n",
    "        \n",
    "    \n",
    "    return [torch.load(save_path/target_file) for target_file in target_files]    "
   ]
  },
  {
   "cell_type": "code",
   "execution_count": 73,
   "metadata": {},
   "outputs": [],
   "source": [
    "train_x, train_y, test_x, test_y = setup_mnist()"
   ]
  },
  {
   "cell_type": "code",
   "execution_count": null,
   "metadata": {},
   "outputs": [],
   "source": []
  }
 ],
 "metadata": {
  "kernelspec": {
   "display_name": "Python 3",
   "language": "python",
   "name": "python3"
  },
  "language_info": {
   "codemirror_mode": {
    "name": "ipython",
    "version": 3
   },
   "file_extension": ".py",
   "mimetype": "text/x-python",
   "name": "python",
   "nbconvert_exporter": "python",
   "pygments_lexer": "ipython3",
   "version": "3.8.5"
  }
 },
 "nbformat": 4,
 "nbformat_minor": 4
}
